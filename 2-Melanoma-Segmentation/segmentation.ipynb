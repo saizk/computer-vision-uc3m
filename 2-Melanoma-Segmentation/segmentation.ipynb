{
 "cells": [
  {
   "cell_type": "code",
   "execution_count": 84,
   "metadata": {
    "pycharm": {
     "is_executing": true,
     "name": "#%%\n"
    }
   },
   "outputs": [],
   "source": [
    "import os\n",
    "import cv2\n",
    "import time\n",
    "import numpy as np\n",
    "\n",
    "from skimage import io, filters, color, feature\n",
    "from sklearn.metrics import jaccard_score\n",
    "\n",
    "from sklearn.cluster import KMeans\n",
    "import skimage.exposure as exp\n",
    "import skimage.morphology as morph\n",
    "\n",
    "from scipy import ndimage as nd\n",
    "import matplotlib.pyplot as plt\n",
    "\n",
    "from multiprocessing import cpu_count\n",
    "from concurrent.futures import ThreadPoolExecutor\n",
    "\n",
    "\n",
    "# from LS3_template import evaluate_masks"
   ]
  },
  {
   "cell_type": "code",
   "execution_count": 85,
   "metadata": {
    "pycharm": {
     "is_executing": true,
     "name": "#%%\n"
    }
   },
   "outputs": [],
   "source": [
    "def read_data(data_dir=os.curdir, folder='train'):\n",
    "\n",
    "    train_imgs_files = [os.path.join(data_dir, f'{folder}/images', f) for f in\n",
    "                        sorted(os.listdir(os.path.join(data_dir, f'{folder}/images')))\n",
    "                        if (os.path.isfile(os.path.join(data_dir, f'{folder}/images', f)) and f.endswith('.jpg'))]\n",
    "\n",
    "    train_masks_files = [os.path.join(data_dir, f'{folder}/masks', f) for f in\n",
    "                         sorted(os.listdir(os.path.join(data_dir, f'{folder}/masks')))\n",
    "                         if (os.path.isfile(os.path.join(data_dir, f'{folder}/masks', f)) and f.endswith('.png'))]\n",
    "    \n",
    "    # train_imgs_files.sort()\n",
    "    # train_masks_files.sort()\n",
    "    print(\"Number of train images\", len(train_imgs_files))\n",
    "    print(\"Number of image masks\", len(train_masks_files))\n",
    "    \n",
    "    return train_imgs_files, train_masks_files"
   ]
  },
  {
   "cell_type": "code",
   "execution_count": 86,
   "metadata": {
    "pycharm": {
     "is_executing": true
    }
   },
   "outputs": [],
   "source": [
    "def plot_imgs(imgs):\n",
    "    for idx, img in enumerate(imgs):\n",
    "        plt.subplot(1, len(imgs), idx + 1)\n",
    "        plt.imshow(img, cmap='binary')\n",
    "        plt.axis(\"off\")\n",
    "    plt.show()"
   ]
  },
  {
   "cell_type": "code",
   "execution_count": 87,
   "metadata": {},
   "outputs": [],
   "source": [
    "def hair_removal(image):  # blackhat filtering\n",
    "    blackhat = cv2.morphologyEx(\n",
    "        cv2.cvtColor(image, cv2.COLOR_RGB2GRAY),\n",
    "        cv2.MORPH_BLACKHAT,\n",
    "        kernel=cv2.getStructuringElement(1, (3, 3))\n",
    "    )\n",
    "    _, threshold = cv2.threshold(blackhat, 10, 255, cv2.THRESH_BINARY)\n",
    "    filtered_image = cv2.inpaint(image, threshold, 1, cv2.INPAINT_TELEA)\n",
    "    return filtered_image"
   ]
  },
  {
   "cell_type": "code",
   "execution_count": 88,
   "metadata": {
    "pycharm": {
     "is_executing": true
    }
   },
   "outputs": [],
   "source": [
    "def pre_processing(image):\n",
    "    \n",
    "    filtered_image = hair_removal(image)\n",
    "    \n",
    "    filtered_image = color.rgb2hsv(filtered_image)[:, :, 1]  # saturation channel\n",
    "    \n",
    "    filtered_image = filters.median(filtered_image, selem=morph.disk(20))\n",
    "    filtered_image = filters.rank.geometric_mean(filtered_image, selem=morph.disk(20))\n",
    "    filtered_image = filters.gaussian(filtered_image, sigma=11, multichannel=True)\n",
    "    \n",
    "    filtered_image = exp.adjust_log(filtered_image, 1)  # logarithmic correction\n",
    "\n",
    "    return filtered_image"
   ]
  },
  {
   "cell_type": "code",
   "execution_count": 89,
   "metadata": {
    "pycharm": {
     "is_executing": true
    }
   },
   "outputs": [],
   "source": [
    "def threshold_segmentation(image, method='isodata'):\n",
    "    \n",
    "    threshold = thresholding(image, method)\n",
    "    \n",
    "    predicted_mask = (image > threshold).astype('int')\n",
    "    \n",
    "    return predicted_mask"
   ]
  },
  {
   "cell_type": "code",
   "execution_count": 90,
   "metadata": {
    "pycharm": {
     "is_executing": true
    }
   },
   "outputs": [],
   "source": [
    "def thresholding(image, method):\n",
    "    \n",
    "    if method == 'otsu':\n",
    "        threshold = filters.threshold_otsu(image)\n",
    "    elif method == 'isodata':\n",
    "        threshold = filters.threshold_isodata(image)\n",
    "    elif method == 'yen':\n",
    "        threshold = filters.threshold_yen(image)\n",
    "    elif method == 'mean':\n",
    "        threshold = filters.threshold_mean(image)\n",
    "    elif method == 'triangle':\n",
    "        threshold = filters.threshold_triangle(image)\n",
    "    elif method == 'li':\n",
    "        threshold = filters.threshold_li(image)\n",
    "    else:\n",
    "        raise Exception('Unknown method')\n",
    "    \n",
    "    return threshold"
   ]
  },
  {
   "cell_type": "code",
   "execution_count": 91,
   "metadata": {
    "pycharm": {
     "is_executing": true
    }
   },
   "outputs": [],
   "source": [
    "def cluster_segmentation(image, k=2):\n",
    "    h, w = image.shape\n",
    "    kmeans = KMeans(n_clusters=k, random_state=0).fit(image.reshape(h * w, 1))\n",
    "    \n",
    "    cluster_centers = kmeans.cluster_centers_\n",
    "    lower_level = min(np.unique(cluster_centers))\n",
    "    \n",
    "    predicted_mask_levels = cluster_centers[kmeans.labels_].reshape(h, w)\n",
    "    predicted_mask = np.where(predicted_mask_levels == lower_level, 0, 1)\n",
    "    \n",
    "    return predicted_mask"
   ]
  },
  {
   "cell_type": "code",
   "execution_count": 92,
   "metadata": {
    "pycharm": {
     "is_executing": true
    }
   },
   "outputs": [],
   "source": [
    "def post_processing(image):\n",
    "    \n",
    "    filtered_image = nd.binary_fill_holes(image)\n",
    "    filtered_image = morph.erosion(filtered_image, selem=morph.disk(5))\n",
    "    filtered_image = morph.dilation(filtered_image, selem=morph.disk(30))\n",
    "    \n",
    "    return filtered_image"
   ]
  },
  {
   "cell_type": "code",
   "execution_count": 93,
   "metadata": {
    "pycharm": {
     "is_executing": true,
     "name": "#%%\n"
    }
   },
   "outputs": [],
   "source": [
    "def skin_lesion_segmentation(img_root):\n",
    "    \"\"\"\n",
    "    %%%%%%%%%%%%%%%%%%%%%%%%%%%%%%%%%%%%%%%%%%%%%%%%%%%%%%%%%%%%%%%%%%%%%%%%%\n",
    "    %                                                                       %\n",
    "    %  Template for implementing the main function of the segmentation      %\n",
    "    % system: 'skin_lesion_segmentation'                                    %\n",
    "    % - Input: file name of the image showing the skin lesion               %\n",
    "    % - Output: predicted segmentation mask                                 %\n",
    "    %                                                                       %\n",
    "    %%%%%%%%%%%%%%%%%%%%%%%%%%%%%%%%%%%%%%%%%%%%%%%%%%%%%%%%%%%%%%%%%%%%%%%%%\n",
    "    \n",
    "    SKIN_LESION_SEGMENTATION:\n",
    "    - - -  COMPLETE - - -\n",
    "    \"\"\"\n",
    "    # Code for the BASELINE system\n",
    "    image = io.imread(img_root)\n",
    "    filtered_image = pre_processing(image)\n",
    "    \n",
    "    predicted_mask = threshold_segmentation(filtered_image, method='isodata')  # isodata\n",
    "    # predicted_mask = cluster_segmentation(filtered_image, k=2)\n",
    "\n",
    "    predicted_mask = post_processing(predicted_mask)\n",
    "    # - - - - - - - - - - - - - - - - - - - - - - - - - - - - - - - - - - - -\n",
    "    return predicted_mask"
   ]
  },
  {
   "cell_type": "code",
   "execution_count": 94,
   "metadata": {
    "pycharm": {
     "is_executing": true,
     "name": "#%%\n"
    }
   },
   "outputs": [],
   "source": [
    "def evaluate_masks(img_roots, gt_masks_roots):\n",
    "    \"\"\" EVALUATE_MASKS: \n",
    "        It receives two lists:\n",
    "        1) A list of the file names of the images to be analysed\n",
    "        2) A list of the file names of the corresponding Ground-Truth (GT) \n",
    "            segmentations\n",
    "        For each image on the list:\n",
    "            It performs the segmentation\n",
    "            It determines Jaccard Index\n",
    "        Finally, it computes an average Jaccard Index for all the images in \n",
    "        the list\n",
    "    \"\"\"\n",
    "    score = []\n",
    "    for i in np.arange(np.size(img_roots)):\n",
    "        print('\\nI%d' % i)\n",
    "        predicted_mask = skin_lesion_segmentation(img_roots[i])\n",
    "        gt_mask = io.imread(gt_masks_roots[i]) / 255\n",
    "        jacc_score = jaccard_score(np.ndarray.flatten(gt_mask), np.ndarray.flatten(predicted_mask))\n",
    "        print('jacc_score', jacc_score)\n",
    "        score.append(jacc_score)\n",
    "        \n",
    "    mean_score = np.mean(score)\n",
    "    print(f'Average Jaccard Index: {mean_score}')\n",
    "    return mean_score"
   ]
  },
  {
   "cell_type": "code",
   "execution_count": 95,
   "metadata": {
    "pycharm": {
     "is_executing": true
    }
   },
   "outputs": [],
   "source": [
    "def compute_jacc_score(img, gt_mask):\n",
    "    predicted_mask = skin_lesion_segmentation(img)\n",
    "    gt_mask = io.imread(gt_mask) / 255\n",
    "    jacc_score = jaccard_score(np.ndarray.flatten(gt_mask), np.ndarray.flatten(predicted_mask))\n",
    "    return jacc_score"
   ]
  },
  {
   "cell_type": "code",
   "execution_count": 96,
   "metadata": {
    "pycharm": {
     "is_executing": true
    }
   },
   "outputs": [],
   "source": [
    "def parallel_evaluation(img_roots, gt_masks_roots, plot=False):\n",
    "    with ThreadPoolExecutor(max_workers=cpu_count()) as pool:\n",
    "        futures = [\n",
    "            pool.submit(\n",
    "                compute_jacc_score,\n",
    "                img_roots[i], gt_masks_roots[i]\n",
    "            )\n",
    "            for i in np.arange(np.size(img_roots))\n",
    "        ]\n",
    "        \n",
    "        scores = [f.result() for f in futures if f.result()]\n",
    "    \n",
    "    mean_score = np.mean(scores)\n",
    "    return mean_score"
   ]
  },
  {
   "cell_type": "code",
   "execution_count": 97,
   "metadata": {
    "pycharm": {
     "is_executing": true
    }
   },
   "outputs": [
    {
     "name": "stdout",
     "output_type": "stream",
     "text": [
      "Number of train images 50\n",
      "Number of image masks 50\n"
     ]
    },
    {
     "name": "stderr",
     "output_type": "stream",
     "text": [
      "C:\\Users\\sergi\\AppData\\Local\\Temp/ipykernel_34268/2939500199.py:17: UserWarning: Possible precision loss converting image of type float64 to uint8 as required by rank filters. Convert manually using skimage.util.img_as_ubyte to silence this warning.\n",
      "  filtered_image = pre_processing(image)\n",
      "C:\\Users\\sergi\\AppData\\Local\\Temp/ipykernel_34268/2939500199.py:17: UserWarning: Possible precision loss converting image of type float64 to uint8 as required by rank filters. Convert manually using skimage.util.img_as_ubyte to silence this warning.\n",
      "  filtered_image = pre_processing(image)\n",
      "C:\\Users\\sergi\\AppData\\Local\\Temp/ipykernel_34268/2939500199.py:17: UserWarning: Possible precision loss converting image of type float64 to uint8 as required by rank filters. Convert manually using skimage.util.img_as_ubyte to silence this warning.\n",
      "  filtered_image = pre_processing(image)\n",
      "C:\\Users\\sergi\\AppData\\Local\\Temp/ipykernel_34268/2939500199.py:17: UserWarning: Possible precision loss converting image of type float64 to uint8 as required by rank filters. Convert manually using skimage.util.img_as_ubyte to silence this warning.\n",
      "  filtered_image = pre_processing(image)\n"
     ]
    },
    {
     "name": "stdout",
     "output_type": "stream",
     "text": [
      "Mean Jacc score: 0.8204984560473556\n",
      "Elapsed time: 84.42292094230652\n"
     ]
    }
   ],
   "source": [
    "def main():\n",
    "    st = time.time()\n",
    "    train_imgs_files, train_masks_files = read_data(folder='train')\n",
    "    \n",
    "#     mean_score = evaluate_masks(train_imgs_files, train_masks_files)\n",
    "    mean_score = parallel_evaluation(\n",
    "        tuple(train_imgs_files), tuple(train_masks_files)\n",
    "    )\n",
    "    print(f'Mean Jacc score: {mean_score}')\n",
    "    print(f'Elapsed time: {time.time() - st}')\n",
    "\n",
    "if __name__ == '__main__':\n",
    "    main()"
   ]
  }
 ],
 "metadata": {
  "kernelspec": {
   "display_name": "Python 3 (ipykernel)",
   "language": "python",
   "name": "python3"
  },
  "language_info": {
   "codemirror_mode": {
    "name": "ipython",
    "version": 3
   },
   "file_extension": ".py",
   "mimetype": "text/x-python",
   "name": "python",
   "nbconvert_exporter": "python",
   "pygments_lexer": "ipython3",
   "version": "3.9.2"
  }
 },
 "nbformat": 4,
 "nbformat_minor": 1
}