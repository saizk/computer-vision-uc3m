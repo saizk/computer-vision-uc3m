{
 "nbformat": 4,
 "nbformat_minor": 0,
 "metadata": {
  "accelerator": "GPU",
  "colab": {
   "name": "objdetectionlab.ipynb",
   "provenance": [],
   "collapsed_sections": []
  },
  "kernelspec": {
   "display_name": "Python 3 (ipykernel)",
   "language": "python",
   "name": "python3"
  },
  "language_info": {
   "codemirror_mode": {
    "name": "ipython",
    "version": 3
   },
   "file_extension": ".py",
   "mimetype": "text/x-python",
   "name": "python",
   "nbconvert_exporter": "python",
   "pygments_lexer": "ipython3",
   "version": "3.8.8"
  }
 },
 "cells": [
  {
   "cell_type": "code",
   "metadata": {
    "id": "bukWo1QXbWE2"
   },
   "source": [
    "% matplotlib inline"
   ],
   "execution_count": null,
   "outputs": []
  },
  {
   "cell_type": "markdown",
   "metadata": {
    "id": "JuKZySPHbWFB"
   },
   "source": [
    "# Lab 6. Object detection with Faster-RCNN."
   ]
  },
  {
   "cell_type": "markdown",
   "metadata": {
    "id": "MSazWDcebWFC"
   },
   "source": [
    "## Objectives \n",
    "\n",
    "The main goal of this session is that the student investigates a Convolutional Neural Network with Region Proposal (RCNN) in the context of the object detection task. In other words, over a certain image, we will classify certain objects and their locations based on predefined classes.\n",
    "\n",
    "Particularly, we will work with Faster-RCNN, the first network to use an automatic strategy for region proposal. We will use part of the PASCAL VOC dataset to conduct our experiments. "
   ]
  },
  {
   "cell_type": "markdown",
   "metadata": {
    "id": "0msY25S5xDsw"
   },
   "source": [
    "## Delivery\n",
    "\n",
    "The delivery required for this lab to be evaluated is an executed version of this notebook (all outputs must be visible) with the required implementations and answers. Please use figures and images to properly support and justify your claims. \n",
    "\n",
    "__*Please make sure that the results can be visualized before submitting the notebook to AulaGlobal.*__"
   ]
  },
  {
   "cell_type": "markdown",
   "metadata": {
    "id": "qAteaecfbWFH"
   },
   "source": [
    "## References\n",
    "\n",
    "- [1] Faster-RCNN. https://arxiv.org/abs/1706.05587\n",
    "- [2] PASCAL VOC 2012 dataset. http://host.robots.ox.ac.uk/pascal/VOC/voc2012/index.html\n",
    "- [3] https://github.com/sgrvinod/a-PyTorch-Tutorial-to-Object-Detection\n",
    "- [4] https://tryolabs.com/blog/2018/01/18/faster-r-cnn-down-the-rabbit-hole-of-modern-object-detection/\n",
    "- [5] Fast-RCNN y ROIPooling: https://arxiv.org/abs/1504.08083\n",
    "- [6] https://en.wikipedia.org/wiki/File:RoI_pooling_animated.gif\n",
    "- [7] FPN: https://arxiv.org/abs/1612.03144"
   ]
  },
  {
   "cell_type": "markdown",
   "metadata": {
    "id": "dDa2gUbNbWFI"
   },
   "source": [
    "## Before we begin\n",
    "\n",
    "Some previous steps need to be taken for the use of Google Colaboratory. The material of the lab needs to be unzipped into the Google Drive directory where this notebook is located. The name of this directory needs to be `objdetection`. Once this is done, the following code needs to be run after properly specifying the path to the directory (variable `path`):"
   ]
  },
  {
   "cell_type": "code",
   "metadata": {
    "id": "T9kpu0KmbWFK",
    "colab": {
     "base_uri": "https://localhost:8080/"
    },
    "outputId": "8a1b45af-34f9-4e34-a1fa-3ba2e69c95c5"
   },
   "source": [
    "# #Descomenta únicamente si quieres ejecutar este código en Google Colab\n",
    "from google.colab import drive\n",
    "import os, sys\n",
    "drive.mount('/content/drive')\n",
    "print(os.getcwd())\n",
    "path = '/content/drive/My Drive/Colab Notebooks/Object-Detection' # <-- Full path prefix to objdetection dir\n",
    "os.chdir(path) \n",
    "sys.path.append(path) \n",
    "\n",
    "# Ignore warnings (when debugging, comment the next two lines)\n",
    "import warnings\n",
    "warnings.filterwarnings(\"ignore\")\n"
   ],
   "execution_count": null,
   "outputs": [
    {
     "output_type": "stream",
     "name": "stdout",
     "text": [
      "Drive already mounted at /content/drive; to attempt to forcibly remount, call drive.mount(\"/content/drive\", force_remount=True).\n",
      "/content\n"
     ]
    }
   ]
  },
  {
   "cell_type": "markdown",
   "metadata": {
    "id": "Xs4jbTSCbWFQ"
   },
   "source": [
    "Additionally, to run the code in a GPU environment (recommended) go to `Entorno de ejecución->Cambiar tipo entorno de ejecución` and choose GPU in `acelerador por hardware`."
   ]
  },
  {
   "cell_type": "markdown",
   "metadata": {
    "id": "883Ll5P8bWFR"
   },
   "source": [
    "## Part 1. Theory.\n",
    "\n",
    "Before we learn how a Faster RCNN is implemented, let us remember some key aspects from the theory."
   ]
  },
  {
   "cell_type": "markdown",
   "metadata": {
    "id": "HkXSBkRsbWFS"
   },
   "source": [
    "### Object detection"
   ]
  },
  {
   "cell_type": "markdown",
   "metadata": {
    "id": "1KMr3sApbWFT"
   },
   "source": [
    "In object detection, an object is defined with respect to a _bounding box_, which completely surounds the object. The bounding box is defined with respect to its location (usually its center or top-left coordinate) and its size (width and length). This means that 4 numbers are required to do so (see image below). \n",
    "\n",
    "<img src=\"https://raw.githubusercontent.com/plasavall/detection_images/main/cs.PNG\">\n",
    "\n",
    "Each object will also have an associated label depending on which predefined category it belongs to."
   ]
  },
  {
   "cell_type": "markdown",
   "metadata": {
    "id": "G2BKQdz9bWFV"
   },
   "source": [
    "### Faster-RCNN"
   ]
  },
  {
   "cell_type": "markdown",
   "metadata": {
    "id": "cNg1OxUibWFV"
   },
   "source": [
    "This section will focus on some key concepts regarding Faster-RCNNs. However, it is highly recommended to review the original paper [1] and the course slides that explain them."
   ]
  },
  {
   "cell_type": "markdown",
   "metadata": {
    "id": "5dvc8TgabWFW"
   },
   "source": [
    "Faster-RCNN is a _framework_ that adapts a classification-oriented CNN to object detection. To do so, a _backbone_ is used consisting on the feature extraction layers of a pre-trained CNN. From this, two blocks are used in conjunction in order to simultaneously obtain the object location and its associated class. These blocks are a Region Proposal Network (RPN) and a *RoI pooling* block for posterior classification (see image below).\n",
    "\n",
    "<img src=\"https://raw.githubusercontent.com/plasavall/detection_images/main/faster.JPEG\">\n",
    "\n",
    "Thus, Faster RCNNs use a convolutional feature map in which both the bounding boxes and the defining features are to be found. This feature map does not have to be the same size of the image, since strides could happen during intermediate layers. For instance, if the size of the input image is H x W, the feature map could be H/16 x W/16. \n",
    "\n",
    "\n",
    "#### Region Proposal Network (RPN)\n",
    "\n",
    "The main goal of this block is to obtain the parts of the image (or rather, of the feature maps) that are susceptible to contain an object. Therefore, in each location of the map we consider _k_ _anchors_ (potential center of objects). Typically, _k_=9 (3 sizes: 128, 256 y 512 pixels; and 3 aspect ratios 1:1, 1:2 y 2:1). An example of the anchors' locations and their representations can be seen in the images below.\n",
    "\n",
    "<img src=\"https://raw.githubusercontent.com/plasavall/detection_images/main/anchor_centers.png\">\n",
    "\n",
    "<img src=\"https://raw.githubusercontent.com/plasavall/detection_images/main/anchors-progress.png\">\n",
    "\n",
    "From the amount of available anchors ($k \\cdot H/16 \\cdot W/16$), only some match the actual position and shape opf the objects in the image. In order to find which of these anchors are correct, we define a loss function $L_{objectness}$ which trains the probability of an anchor being correct with respect to IoU - _Intersection over Union_ -. Anchors with a high IoU are labeled positive while anchors with a los one are labeled negative (anchors with ambiguous values of IoU do not contribute to the training stage). See [1] for more details.\n",
    "\n",
    "The sizes and shapes of the anchors, however, are limited and, hence, insufficient to represent the object's shape. Thus, for the positive anchors with highest objectness score, the bounding box is then adjusted through a regression loss function $L_{reg}$ (which considers the difference between the real bounding box and the anchors'). Therefore, the bounding box finally predicted by the RPN can be seen as a slight deviation from the anchor.\n",
    "\n",
    "<img src=\"https://raw.githubusercontent.com/plasavall/detection_images/main/reg.PNG\">\n",
    "\n",
    "Then, $L_{objectness}$ finds the best anchors to represent the obejcts in the image while $L_{reg}$ adapts those anchors to the true shape of the object. \n",
    "\n",
    "\n",
    "\n",
    "#### _RoI pooling_ and classification\n",
    "\n",
    "Until now, obejcts have defined agonstically (without considering their category). Once the objects have been located, we need to determine their category. To do this, we could feed the feature map chunks bounded by the identified boxes to a final set of fully-connected layers. however, this would require all chunks to be the same size, which is almost certainly always false. To solve this, we use a RoI pooling strategy, which adapts the features map to a fixed size.\n",
    "\n",
    "This strategy simply consists on defining a grid over the feature map's bounding box which will be used to pool values from. The bounding box's size is $H_{bb}$ x $W_{bb}$, so if we set the grid to be $H_{fix}$ x $W_{fix}$ with each cell of the grid being size $H_{bb}/H_{fix}$ x $W_{bb}/W_{fix}$, we can apply a max pooling from each cell to obtain an adapted, fixed sized version of the feature map. This can be seen in the animation below.\n",
    "\n",
    "<img src=\"https://raw.githubusercontent.com/plasavall/detection_images/main/RoI_pooling_animated.gif\">\n",
    "\n",
    "Once the fixed sized regions are set, we can use the network to classify the objects according to teheir category. This is done through a loss function $L_{cls}$. Additionally, the bounding boxes are refined with the newly obtained information (from RoI pooling and class definition) with a new regressive loss function $L_{reg2}$. An example of object detection for a certain input image is shown below (bounding box + object class with associated likelyhood).\n",
    "\n",
    "<img src=\"https://raw.githubusercontent.com/plasavall/detection_images/main/result.PNG\">\n"
   ]
  },
  {
   "cell_type": "markdown",
   "metadata": {
    "id": "ayYVJQDOZKIc"
   },
   "source": [
    "### Additional information for this lab: FPN \n",
    "\n",
    "For object detection networks, detection at different scales is challenging (particularly for small objects). The traditional strategy for this is the construction of a pyramid for the image at different scales (see the figure below), and the application of the same detection procedure for the different scales. However, in the case of neural networks, the processing of different versions of the same image requires memory and time. However, this multiscale processing can be applied to the high-level characteristics of some layer of the network (already processed), which is more efficient (in addition, its spatial dimension is smaller).\n",
    "\n",
    "<img src=\"https://raw.githubusercontent.com/plasavall/detection_images/main/pyramid.jpeg\">\n",
    "\n",
    "Note that feature maps near the input are not useful for especially large object detection, as they are composed of low-level structures (edges) of the image. For this reason, frequently, prior to an RPN, a * Feature Pyramid Network * (FPN) is applied, a feature extractor that generates feature maps of different sizes (multiscale) with different information for each scale, like the figure below shows.\n",
    "\n",
    "<img src=\"https://raw.githubusercontent.com/plasavall/detection_images/main/fpn.png\">\n",
    "\n",
    "On each of these feature maps, the RPN proposes the *anchors*. Specifically, depending on the spatial resolution of each feature map, the RPN uses different translation-invariant *anchors*: the RPN proposes the smallest-size translation-invariant *anchors* on the higher-resolution feature map and the largest translation-invariant *anchors* over the lower resolution map locations. This makes sense from a logical point of view: on maps with more low-level information, the small *anchors* are placed to search for small objects, and on maps with high-level information, the larger *anchors* are placed, which look for objects that make up a large percentage of the image area.\n",
    "\n",
    "For more detailed information, see [7]."
   ]
  },
  {
   "cell_type": "markdown",
   "metadata": {
    "id": "H5sXEE1mbWFX"
   },
   "source": [
    "### Evaluation"
   ]
  },
  {
   "cell_type": "markdown",
   "metadata": {
    "id": "bR5YRYv9bWFZ"
   },
   "source": [
    "The performance of the detection system is analyzed in terms of the F1 score. However, to define this measure, you must first define the precision and the  recall. Each of these measures are defined below.\n",
    "\n",
    "The __precision__, for the case of object detection, represents the percentage of correctly detected objects out of the total number of detected objects (correct and incorrect). It is calculated as:\n",
    "\n",
    "\\begin{equation}\n",
    "P=\\frac{TP}{TP+FP},\n",
    "\\end{equation}\n",
    "\n",
    "where $TP$ is the number of *true positives* (correctly identified objects) and $FP$ the number of *false positives* (incorrectly identified objects).\n",
    "\n",
    "The __ * recall * __ represents the percentage of correctly detected objects out of the total number of objects present in the images. It is calculated as:\n",
    "\n",
    "\n",
    "\\begin{equation}\n",
    "R=\\frac{TP}{TP+FN},\n",
    "\\end{equation}\n",
    "\n",
    "where $ FN $ represents the number of * false negatives * (objects present in the images but not detected).\n",
    "\n",
    "Nevertheless, the network provides a series of *bounding boxes* on the image that can coincide to a greater or lesser extent with the *ground truth*. Thus, you have to establish a __criterion to consider a prediction as correct__. This is usually established in the quality of segmentation, by means of the *Intersection over Union*, __IoU__ measure, also called *Jaccard Index* (JI). The $ IoU $ measures the similarity between two regions $A$ and $B$ as:\n",
    "\n",
    "\\begin{equation}\n",
    "IoU=\\frac{A \\cap B}{A \\cup B}\n",
    "\\end{equation}\n",
    "\n",
    "where $\\cap$ is the intersection between the regions (area in common) and $\\cup$ is the union or total area that they cover between them. A minimum threshold of $IoU_{th} = 0.5 $ or $ IoU_ {th} = 0.7$ is usually set to consider a detection as correct. An example of the $ IoU $ measure on *bounding boxes* can be seen below (it will be used in our object detection architecture).\n",
    "\n",
    "<img src=\"https://raw.githubusercontent.com/plasavall/detection_images/main/iou.png\" width=\"500 pix\">\n",
    "\n",
    "Similarly, the $IoU$ measure can be used to set quality in object instance segmentation.\n",
    "\n",
    "Finally, once these measures have been described, the F1 score can be defined. The F1-*score* considers both the precision and the recall to obtain a weighted harmonic mean between them such that:\n",
    "\n",
    "\\begin{equation}\n",
    "F1=2\\cdot \\frac{P\\cdot R}{P+R},\n",
    "\\end{equation}\n",
    "\n",
    "Therefore, this measure summarizes in a single figure the performance of our object detector for a given __point of operation__. The network provides a series of *bounding boxes* with an associated __*score*__, which indicates how likely it is that an object of a certain class exists in that region. However, the precision, the recall and the F1 measure do not take this *score* into account for the calculation, and these measures will depend on the __operation point__ chosen for the system: frequently, those regions with a *low score* (e.g., $score<0.5$) are discarded."
   ]
  },
  {
   "cell_type": "markdown",
   "metadata": {
    "id": "MJGnXdBobWFZ"
   },
   "source": [
    "### Data"
   ]
  },
  {
   "cell_type": "markdown",
   "metadata": {
    "id": "t-u9w5oLbWFa"
   },
   "source": [
    "The database that will be used in practice is a subset of the PASCAL VOC 2012 database [2]. This database contains images with various objects belonging to 20 categories:\n",
    "\n",
    "- __Person__: _person_\n",
    "- __Animal__: _bird, cat, cow, dog, horse, sheep_\n",
    "- __Vehicle__: _aeroplane, bicycle, boat, bus, car, motorbike, train_\n",
    "- __Indoor__: _bottle, chair, dining table, potted plant, sofa, tv/monitor_\n",
    "\n",
    "During this session you are going to work on the set __Indoor__. Specifically, objects of the classes: _bottle, chair_ and _dining table_ will be detected. The images are provided in separate folders for training and testing. The sets are distributed as follows:\n",
    "- Training: 234 images, in which there are 90 objects of the *bottle* class, 125 of the *chair* class, 36 of the *dining table* class and 40 of the *sofa* class.\n",
    "- Test: 68 images, in which there are 36 objects of the *bottle* class, 52 of the *chair* class and 15 of the *dining table* class and 27 of the *sofa* class."
   ]
  },
  {
   "cell_type": "markdown",
   "metadata": {
    "id": "IDLKHGxJbWFb"
   },
   "source": [
    "## Part 2. Implementation."
   ]
  },
  {
   "cell_type": "markdown",
   "metadata": {
    "id": "SAJk5jQubWFc"
   },
   "source": [
    "First, we import the necessary libraries"
   ]
  },
  {
   "cell_type": "code",
   "metadata": {
    "id": "Wf0s39kvbWFd",
    "colab": {
     "base_uri": "https://localhost:8080/"
    },
    "outputId": "5f3ebbb5-809a-478a-fcb8-bdf23215ffda"
   },
   "source": [
    "import os\n",
    "import time\n",
    "import csv\n",
    "import numpy as np\n",
    "import torch\n",
    "import torch.utils.data\n",
    "from PIL import Image, ImageFile, ImageDraw\n",
    "import cv2\n",
    "import random\n",
    "\n",
    "# Set random seed for replicability (MANUALLY)\n",
    "manualSeed = 999\n",
    "print(\"Random Seed: \", manualSeed)\n",
    "random.seed(manualSeed)\n",
    "torch.manual_seed(manualSeed)\n",
    "# torch uses some non-deterministic algorithms\n",
    "torch.backends.cudnn.enabled = False"
   ],
   "execution_count": null,
   "outputs": [
    {
     "output_type": "stream",
     "name": "stdout",
     "text": [
      "Random Seed:  999\n"
     ]
    }
   ]
  },
  {
   "cell_type": "markdown",
   "metadata": {
    "id": "t3HVnwz0bWFi"
   },
   "source": [
    "### Runtime input variables\n",
    "\n",
    "Some inputs are defined:\n",
    "\n",
    "- **data_dir** - the root directory of the database, described later.\n",
    "- **num_workers** - the number of threads to load the data with the DataLoader class.\n",
    "- **batch_size** - the size of the _batch_.\n",
    "- **num_classes** - the number of classes to detect.\n",
    "- **class_names** - the names of the classes to detect.\n",
    "- **num_epochs** - number of _epochs_ for network training.\n",
    "- **step_size** - number of _epochs_ after which the learning rate is reduced by a factor of 0.1.\n",
    "- **lr** - initial learning rate.\n",
    "- **device** - the device (GPU or CPU) for execution."
   ]
  },
  {
   "cell_type": "code",
   "metadata": {
    "id": "Z5R8rQ4-bWFj",
    "colab": {
     "base_uri": "https://localhost:8080/"
    },
    "outputId": "25612d7f-34f5-4eae-bedd-88a0911fa064"
   },
   "source": [
    "data_dir = \"myVOC4\"\n",
    "num_workers = 2  # to debug, fix num_workers=0\n",
    "batch_size = 1  # Training and test (if we use 1 we don't need to resize the images)\n",
    "num_classes = 5  # Number of classes\n",
    "class_names = ['background', 'bottle', 'chair', 'dining_table', 'sofa']\n",
    "num_epochs = 4\n",
    "step_size = 5\n",
    "lr = 0.001\n",
    "# Detect if we have a GPU available\n",
    "device = torch.device(\"cuda:0\" if torch.cuda.is_available() else \"cpu\")\n",
    "print(device)"
   ],
   "execution_count": null,
   "outputs": [
    {
     "output_type": "stream",
     "name": "stdout",
     "text": [
      "cuda:0\n"
     ]
    }
   ]
  },
  {
   "cell_type": "markdown",
   "metadata": {
    "id": "ud-4uoN1bWFn"
   },
   "source": [
    "### Modified library \n",
    "\n",
    "For this session, a modified version of the torchvision library will be used, which we will name torchvision_05. This modified version allows to train our detection network with images that do not contain any objects, whereas the original version does not allow it. Likewise, it provides us with the information of the _anchors_ selected for each object during the inference. We import the necessary modules"
   ]
  },
  {
   "cell_type": "code",
   "metadata": {
    "id": "RqIzieQbbWFn"
   },
   "source": [
    "import torchvision_05\n",
    "from torchvision_05.models.detection.rpn import AnchorGenerator\n",
    "from torchvision_05.models.detection.faster_rcnn import FastRCNNPredictor, FasterRCNN\n",
    "from torchvision_05.models.detection.backbone_utils import resnet_fpn_backbone\n",
    "import torchvision.transforms.functional as F"
   ],
   "execution_count": null,
   "outputs": []
  },
  {
   "cell_type": "markdown",
   "metadata": {
    "id": "_-OXXBtIbWFs"
   },
   "source": [
    "### Network\n",
    "\n",
    "The network to be used will be a version of Faster-RCNN on ResNet-50. Specifically, the first 4 blocks of this network are used, composed of convolutional layers, batch normalization (whose parameters are frozen) and non-linear layers. We also add a FPN, _Feature Pyramid Network_, which extracts characteristics from the resulting maps of the network at different scales. After this *backbone*, Faster-RCNN's own modules are placed: the region proposition network and the _RoI pooling_ and classification.\n",
    "\n",
    "The following is the function that builds the network."
   ]
  },
  {
   "cell_type": "code",
   "metadata": {
    "id": "34rrV7QCbWFv"
   },
   "source": [
    "def get_model_detection(num_classes, device):\n",
    "    # load a Faster RCNN model pre-trained on COCO\n",
    "    model = torchvision_05.models.detection.fasterrcnn_resnet50_fpn(pretrained=True)\n",
    "\n",
    "    # get number of input features for the classifier\n",
    "    in_features = model.roi_heads.box_predictor.cls_score.in_features\n",
    "    # replace the pre-trained head with a new one\n",
    "    model.roi_heads.box_predictor = FastRCNNPredictor(in_features, num_classes)\n",
    "    model = model.to(device) # Send the model to GPU\n",
    "    return model"
   ],
   "execution_count": null,
   "outputs": []
  },
  {
   "cell_type": "markdown",
   "metadata": {
    "id": "67kuRikSbWF0"
   },
   "source": [
    "In the next cell, we will load the model, please stop to analyze each of the layers that define the model and its characteristics."
   ]
  },
  {
   "cell_type": "code",
   "metadata": {
    "id": "FBMIychIbWF0",
    "colab": {
     "base_uri": "https://localhost:8080/"
    },
    "outputId": "1c6674a0-d434-463f-91b3-11ada6e6ba2f"
   },
   "source": [
    "model_ft = get_model_detection(num_classes, device)\n",
    "print(model_ft)"
   ],
   "execution_count": null,
   "outputs": [
    {
     "output_type": "stream",
     "name": "stdout",
     "text": [
      "FasterRCNN(\n",
      "  (transform): GeneralizedRCNNTransform()\n",
      "  (backbone): BackboneWithFPN(\n",
      "    (body): IntermediateLayerGetter(\n",
      "      (conv1): Conv2d(3, 64, kernel_size=(7, 7), stride=(2, 2), padding=(3, 3), bias=False)\n",
      "      (bn1): FrozenBatchNorm2d(64, eps=1e-05)\n",
      "      (relu): ReLU(inplace=True)\n",
      "      (maxpool): MaxPool2d(kernel_size=3, stride=2, padding=1, dilation=1, ceil_mode=False)\n",
      "      (layer1): Sequential(\n",
      "        (0): Bottleneck(\n",
      "          (conv1): Conv2d(64, 64, kernel_size=(1, 1), stride=(1, 1), bias=False)\n",
      "          (bn1): FrozenBatchNorm2d(64, eps=1e-05)\n",
      "          (conv2): Conv2d(64, 64, kernel_size=(3, 3), stride=(1, 1), padding=(1, 1), bias=False)\n",
      "          (bn2): FrozenBatchNorm2d(64, eps=1e-05)\n",
      "          (conv3): Conv2d(64, 256, kernel_size=(1, 1), stride=(1, 1), bias=False)\n",
      "          (bn3): FrozenBatchNorm2d(256, eps=1e-05)\n",
      "          (relu): ReLU(inplace=True)\n",
      "          (downsample): Sequential(\n",
      "            (0): Conv2d(64, 256, kernel_size=(1, 1), stride=(1, 1), bias=False)\n",
      "            (1): FrozenBatchNorm2d(256, eps=1e-05)\n",
      "          )\n",
      "        )\n",
      "        (1): Bottleneck(\n",
      "          (conv1): Conv2d(256, 64, kernel_size=(1, 1), stride=(1, 1), bias=False)\n",
      "          (bn1): FrozenBatchNorm2d(64, eps=1e-05)\n",
      "          (conv2): Conv2d(64, 64, kernel_size=(3, 3), stride=(1, 1), padding=(1, 1), bias=False)\n",
      "          (bn2): FrozenBatchNorm2d(64, eps=1e-05)\n",
      "          (conv3): Conv2d(64, 256, kernel_size=(1, 1), stride=(1, 1), bias=False)\n",
      "          (bn3): FrozenBatchNorm2d(256, eps=1e-05)\n",
      "          (relu): ReLU(inplace=True)\n",
      "        )\n",
      "        (2): Bottleneck(\n",
      "          (conv1): Conv2d(256, 64, kernel_size=(1, 1), stride=(1, 1), bias=False)\n",
      "          (bn1): FrozenBatchNorm2d(64, eps=1e-05)\n",
      "          (conv2): Conv2d(64, 64, kernel_size=(3, 3), stride=(1, 1), padding=(1, 1), bias=False)\n",
      "          (bn2): FrozenBatchNorm2d(64, eps=1e-05)\n",
      "          (conv3): Conv2d(64, 256, kernel_size=(1, 1), stride=(1, 1), bias=False)\n",
      "          (bn3): FrozenBatchNorm2d(256, eps=1e-05)\n",
      "          (relu): ReLU(inplace=True)\n",
      "        )\n",
      "      )\n",
      "      (layer2): Sequential(\n",
      "        (0): Bottleneck(\n",
      "          (conv1): Conv2d(256, 128, kernel_size=(1, 1), stride=(1, 1), bias=False)\n",
      "          (bn1): FrozenBatchNorm2d(128, eps=1e-05)\n",
      "          (conv2): Conv2d(128, 128, kernel_size=(3, 3), stride=(2, 2), padding=(1, 1), bias=False)\n",
      "          (bn2): FrozenBatchNorm2d(128, eps=1e-05)\n",
      "          (conv3): Conv2d(128, 512, kernel_size=(1, 1), stride=(1, 1), bias=False)\n",
      "          (bn3): FrozenBatchNorm2d(512, eps=1e-05)\n",
      "          (relu): ReLU(inplace=True)\n",
      "          (downsample): Sequential(\n",
      "            (0): Conv2d(256, 512, kernel_size=(1, 1), stride=(2, 2), bias=False)\n",
      "            (1): FrozenBatchNorm2d(512, eps=1e-05)\n",
      "          )\n",
      "        )\n",
      "        (1): Bottleneck(\n",
      "          (conv1): Conv2d(512, 128, kernel_size=(1, 1), stride=(1, 1), bias=False)\n",
      "          (bn1): FrozenBatchNorm2d(128, eps=1e-05)\n",
      "          (conv2): Conv2d(128, 128, kernel_size=(3, 3), stride=(1, 1), padding=(1, 1), bias=False)\n",
      "          (bn2): FrozenBatchNorm2d(128, eps=1e-05)\n",
      "          (conv3): Conv2d(128, 512, kernel_size=(1, 1), stride=(1, 1), bias=False)\n",
      "          (bn3): FrozenBatchNorm2d(512, eps=1e-05)\n",
      "          (relu): ReLU(inplace=True)\n",
      "        )\n",
      "        (2): Bottleneck(\n",
      "          (conv1): Conv2d(512, 128, kernel_size=(1, 1), stride=(1, 1), bias=False)\n",
      "          (bn1): FrozenBatchNorm2d(128, eps=1e-05)\n",
      "          (conv2): Conv2d(128, 128, kernel_size=(3, 3), stride=(1, 1), padding=(1, 1), bias=False)\n",
      "          (bn2): FrozenBatchNorm2d(128, eps=1e-05)\n",
      "          (conv3): Conv2d(128, 512, kernel_size=(1, 1), stride=(1, 1), bias=False)\n",
      "          (bn3): FrozenBatchNorm2d(512, eps=1e-05)\n",
      "          (relu): ReLU(inplace=True)\n",
      "        )\n",
      "        (3): Bottleneck(\n",
      "          (conv1): Conv2d(512, 128, kernel_size=(1, 1), stride=(1, 1), bias=False)\n",
      "          (bn1): FrozenBatchNorm2d(128, eps=1e-05)\n",
      "          (conv2): Conv2d(128, 128, kernel_size=(3, 3), stride=(1, 1), padding=(1, 1), bias=False)\n",
      "          (bn2): FrozenBatchNorm2d(128, eps=1e-05)\n",
      "          (conv3): Conv2d(128, 512, kernel_size=(1, 1), stride=(1, 1), bias=False)\n",
      "          (bn3): FrozenBatchNorm2d(512, eps=1e-05)\n",
      "          (relu): ReLU(inplace=True)\n",
      "        )\n",
      "      )\n",
      "      (layer3): Sequential(\n",
      "        (0): Bottleneck(\n",
      "          (conv1): Conv2d(512, 256, kernel_size=(1, 1), stride=(1, 1), bias=False)\n",
      "          (bn1): FrozenBatchNorm2d(256, eps=1e-05)\n",
      "          (conv2): Conv2d(256, 256, kernel_size=(3, 3), stride=(2, 2), padding=(1, 1), bias=False)\n",
      "          (bn2): FrozenBatchNorm2d(256, eps=1e-05)\n",
      "          (conv3): Conv2d(256, 1024, kernel_size=(1, 1), stride=(1, 1), bias=False)\n",
      "          (bn3): FrozenBatchNorm2d(1024, eps=1e-05)\n",
      "          (relu): ReLU(inplace=True)\n",
      "          (downsample): Sequential(\n",
      "            (0): Conv2d(512, 1024, kernel_size=(1, 1), stride=(2, 2), bias=False)\n",
      "            (1): FrozenBatchNorm2d(1024, eps=1e-05)\n",
      "          )\n",
      "        )\n",
      "        (1): Bottleneck(\n",
      "          (conv1): Conv2d(1024, 256, kernel_size=(1, 1), stride=(1, 1), bias=False)\n",
      "          (bn1): FrozenBatchNorm2d(256, eps=1e-05)\n",
      "          (conv2): Conv2d(256, 256, kernel_size=(3, 3), stride=(1, 1), padding=(1, 1), bias=False)\n",
      "          (bn2): FrozenBatchNorm2d(256, eps=1e-05)\n",
      "          (conv3): Conv2d(256, 1024, kernel_size=(1, 1), stride=(1, 1), bias=False)\n",
      "          (bn3): FrozenBatchNorm2d(1024, eps=1e-05)\n",
      "          (relu): ReLU(inplace=True)\n",
      "        )\n",
      "        (2): Bottleneck(\n",
      "          (conv1): Conv2d(1024, 256, kernel_size=(1, 1), stride=(1, 1), bias=False)\n",
      "          (bn1): FrozenBatchNorm2d(256, eps=1e-05)\n",
      "          (conv2): Conv2d(256, 256, kernel_size=(3, 3), stride=(1, 1), padding=(1, 1), bias=False)\n",
      "          (bn2): FrozenBatchNorm2d(256, eps=1e-05)\n",
      "          (conv3): Conv2d(256, 1024, kernel_size=(1, 1), stride=(1, 1), bias=False)\n",
      "          (bn3): FrozenBatchNorm2d(1024, eps=1e-05)\n",
      "          (relu): ReLU(inplace=True)\n",
      "        )\n",
      "        (3): Bottleneck(\n",
      "          (conv1): Conv2d(1024, 256, kernel_size=(1, 1), stride=(1, 1), bias=False)\n",
      "          (bn1): FrozenBatchNorm2d(256, eps=1e-05)\n",
      "          (conv2): Conv2d(256, 256, kernel_size=(3, 3), stride=(1, 1), padding=(1, 1), bias=False)\n",
      "          (bn2): FrozenBatchNorm2d(256, eps=1e-05)\n",
      "          (conv3): Conv2d(256, 1024, kernel_size=(1, 1), stride=(1, 1), bias=False)\n",
      "          (bn3): FrozenBatchNorm2d(1024, eps=1e-05)\n",
      "          (relu): ReLU(inplace=True)\n",
      "        )\n",
      "        (4): Bottleneck(\n",
      "          (conv1): Conv2d(1024, 256, kernel_size=(1, 1), stride=(1, 1), bias=False)\n",
      "          (bn1): FrozenBatchNorm2d(256, eps=1e-05)\n",
      "          (conv2): Conv2d(256, 256, kernel_size=(3, 3), stride=(1, 1), padding=(1, 1), bias=False)\n",
      "          (bn2): FrozenBatchNorm2d(256, eps=1e-05)\n",
      "          (conv3): Conv2d(256, 1024, kernel_size=(1, 1), stride=(1, 1), bias=False)\n",
      "          (bn3): FrozenBatchNorm2d(1024, eps=1e-05)\n",
      "          (relu): ReLU(inplace=True)\n",
      "        )\n",
      "        (5): Bottleneck(\n",
      "          (conv1): Conv2d(1024, 256, kernel_size=(1, 1), stride=(1, 1), bias=False)\n",
      "          (bn1): FrozenBatchNorm2d(256, eps=1e-05)\n",
      "          (conv2): Conv2d(256, 256, kernel_size=(3, 3), stride=(1, 1), padding=(1, 1), bias=False)\n",
      "          (bn2): FrozenBatchNorm2d(256, eps=1e-05)\n",
      "          (conv3): Conv2d(256, 1024, kernel_size=(1, 1), stride=(1, 1), bias=False)\n",
      "          (bn3): FrozenBatchNorm2d(1024, eps=1e-05)\n",
      "          (relu): ReLU(inplace=True)\n",
      "        )\n",
      "      )\n",
      "      (layer4): Sequential(\n",
      "        (0): Bottleneck(\n",
      "          (conv1): Conv2d(1024, 512, kernel_size=(1, 1), stride=(1, 1), bias=False)\n",
      "          (bn1): FrozenBatchNorm2d(512, eps=1e-05)\n",
      "          (conv2): Conv2d(512, 512, kernel_size=(3, 3), stride=(2, 2), padding=(1, 1), bias=False)\n",
      "          (bn2): FrozenBatchNorm2d(512, eps=1e-05)\n",
      "          (conv3): Conv2d(512, 2048, kernel_size=(1, 1), stride=(1, 1), bias=False)\n",
      "          (bn3): FrozenBatchNorm2d(2048, eps=1e-05)\n",
      "          (relu): ReLU(inplace=True)\n",
      "          (downsample): Sequential(\n",
      "            (0): Conv2d(1024, 2048, kernel_size=(1, 1), stride=(2, 2), bias=False)\n",
      "            (1): FrozenBatchNorm2d(2048, eps=1e-05)\n",
      "          )\n",
      "        )\n",
      "        (1): Bottleneck(\n",
      "          (conv1): Conv2d(2048, 512, kernel_size=(1, 1), stride=(1, 1), bias=False)\n",
      "          (bn1): FrozenBatchNorm2d(512, eps=1e-05)\n",
      "          (conv2): Conv2d(512, 512, kernel_size=(3, 3), stride=(1, 1), padding=(1, 1), bias=False)\n",
      "          (bn2): FrozenBatchNorm2d(512, eps=1e-05)\n",
      "          (conv3): Conv2d(512, 2048, kernel_size=(1, 1), stride=(1, 1), bias=False)\n",
      "          (bn3): FrozenBatchNorm2d(2048, eps=1e-05)\n",
      "          (relu): ReLU(inplace=True)\n",
      "        )\n",
      "        (2): Bottleneck(\n",
      "          (conv1): Conv2d(2048, 512, kernel_size=(1, 1), stride=(1, 1), bias=False)\n",
      "          (bn1): FrozenBatchNorm2d(512, eps=1e-05)\n",
      "          (conv2): Conv2d(512, 512, kernel_size=(3, 3), stride=(1, 1), padding=(1, 1), bias=False)\n",
      "          (bn2): FrozenBatchNorm2d(512, eps=1e-05)\n",
      "          (conv3): Conv2d(512, 2048, kernel_size=(1, 1), stride=(1, 1), bias=False)\n",
      "          (bn3): FrozenBatchNorm2d(2048, eps=1e-05)\n",
      "          (relu): ReLU(inplace=True)\n",
      "        )\n",
      "      )\n",
      "    )\n",
      "    (fpn): FeaturePyramidNetwork(\n",
      "      (inner_blocks): ModuleList(\n",
      "        (0): Conv2d(256, 256, kernel_size=(1, 1), stride=(1, 1))\n",
      "        (1): Conv2d(512, 256, kernel_size=(1, 1), stride=(1, 1))\n",
      "        (2): Conv2d(1024, 256, kernel_size=(1, 1), stride=(1, 1))\n",
      "        (3): Conv2d(2048, 256, kernel_size=(1, 1), stride=(1, 1))\n",
      "      )\n",
      "      (layer_blocks): ModuleList(\n",
      "        (0): Conv2d(256, 256, kernel_size=(3, 3), stride=(1, 1), padding=(1, 1))\n",
      "        (1): Conv2d(256, 256, kernel_size=(3, 3), stride=(1, 1), padding=(1, 1))\n",
      "        (2): Conv2d(256, 256, kernel_size=(3, 3), stride=(1, 1), padding=(1, 1))\n",
      "        (3): Conv2d(256, 256, kernel_size=(3, 3), stride=(1, 1), padding=(1, 1))\n",
      "      )\n",
      "      (extra_blocks): LastLevelMaxPool()\n",
      "    )\n",
      "  )\n",
      "  (rpn): RegionProposalNetwork(\n",
      "    (anchor_generator): AnchorGenerator()\n",
      "    (head): RPNHead(\n",
      "      (conv): Conv2d(256, 256, kernel_size=(3, 3), stride=(1, 1), padding=(1, 1))\n",
      "      (cls_logits): Conv2d(256, 3, kernel_size=(1, 1), stride=(1, 1))\n",
      "      (bbox_pred): Conv2d(256, 12, kernel_size=(1, 1), stride=(1, 1))\n",
      "    )\n",
      "  )\n",
      "  (roi_heads): RoIHeads(\n",
      "    (box_roi_pool): MultiScaleRoIAlign(featmap_names=[0, 1, 2, 3], output_size=(7, 7), sampling_ratio=2)\n",
      "    (box_head): TwoMLPHead(\n",
      "      (fc6): Linear(in_features=12544, out_features=1024, bias=True)\n",
      "      (fc7): Linear(in_features=1024, out_features=1024, bias=True)\n",
      "    )\n",
      "    (box_predictor): FastRCNNPredictor(\n",
      "      (cls_score): Linear(in_features=1024, out_features=5, bias=True)\n",
      "      (bbox_pred): Linear(in_features=1024, out_features=20, bias=True)\n",
      "    )\n",
      "  )\n",
      ")\n"
     ]
    }
   ]
  },
  {
   "cell_type": "markdown",
   "metadata": {
    "id": "C1O2DXZEbWF4"
   },
   "source": [
    "### Database\n",
    "\n",
    "The function to load the database is defined below. To simplify its treatment, the database is provided in the form of images (`images`) and masks for each of the object instances (` instances`). Thus, for each image there are as many masks as there are objects in it (with the segmentation of each one of them). Also, the category of each object is encoded in the name of the image. In addition, the `classes` semantic segmentation and the `masks` instance segmentation are provided.\n",
    "\n",
    "Try to understand the return variables of this function.\n",
    "\n",
    "**IMPORTANT**: input images are not normalized. The _framework_ itself performs normalization internally with the mean of ImageNet samples."
   ]
  },
  {
   "cell_type": "code",
   "metadata": {
    "id": "VI55x40abWF5",
    "scrolled": false
   },
   "source": [
    "\n",
    "class VOCDataset(object):\n",
    "    def __init__(self, root, train):\n",
    "        self.root = root\n",
    "        self.train = train\n",
    "        # load all image files, sorting them to\n",
    "        # ensure that they are aligned\n",
    "        if self.train:\n",
    "            self.imgs = [os.path.join(root, name)\n",
    "                         for root, dirs, files in os.walk(root)\n",
    "                         for name in files if ('train' + os.path.sep + 'images' in root)\n",
    "                         if name.lower().endswith(\".jpg\")]\n",
    "        else:\n",
    "            self.imgs = [os.path.join(root, name)\n",
    "                         for root, dirs, files in os.walk(root)\n",
    "                         for name in files if ('test' + os.path.sep + 'images' in root)\n",
    "                         if name.lower().endswith(\".jpg\")]\n",
    "\n",
    "    def __getitem__(self, idx):\n",
    "        # load images ad masks\n",
    "        img_path = self.imgs[idx]\n",
    "        ImageFile.LOAD_TRUNCATED_IMAGES = True\n",
    "        img = Image.open(img_path).convert(\"RGB\")\n",
    "\n",
    "        # Independent annotations for each object\n",
    "        file = self.imgs[idx].split(os.path.sep)[-1]\n",
    "        self.masks = [os.path.join(self.root, name)\n",
    "                      for self.root, dirs, files in\n",
    "                      os.walk(self.imgs[idx].replace('images', 'instances').replace(file, ''))\n",
    "                      for name in files\n",
    "                      if (name.startswith(file[:-4] + '_'))]\n",
    "        if not self.masks:\n",
    "            masks = np.array(Image.new('L', img.size))\n",
    "            labels = np.zeros((0,), dtype=np.int64)\n",
    "            num_objs = 0\n",
    "        else:\n",
    "            mask = np.zeros((len(self.masks), img.size[1], img.size[0]), dtype=np.uint8)\n",
    "            labels = np.zeros((len(self.masks),), dtype=np.int64)\n",
    "            for j in range(len(self.masks)):\n",
    "                mask[j, :, :] = np.array(Image.open(self.masks[j]))\n",
    "                labels[j] = int(self.masks[j].split('_')[-1][:-4])\n",
    "            num_objs = len(mask)\n",
    "            masks = np.asarray(mask)\n",
    "\n",
    "        boxes = []\n",
    "\n",
    "        for i in range(num_objs):\n",
    "            pos = np.where(masks[i])\n",
    "            xmin = np.min(pos[1])\n",
    "            xmax = np.max(pos[1])\n",
    "            ymin = np.min(pos[0])\n",
    "            ymax = np.max(pos[0])\n",
    "            # Get aspect ratio\n",
    "            W = xmax - xmin\n",
    "            H = ymax - ymin\n",
    "            if W == 0 or H == 0:\n",
    "                labels = np.delete(labels, i)\n",
    "            else:\n",
    "                boxes.append([xmin, ymin, xmax, ymax])\n",
    "\n",
    "        # convert everything into a torch.Tensor\n",
    "        boxes = torch.as_tensor(boxes, dtype=torch.float32)\n",
    "        num_objs = boxes.size(0)\n",
    "        # get the labels\n",
    "        labels = torch.as_tensor(labels, dtype=torch.int64)\n",
    "        image_id = torch.tensor([idx])\n",
    "        # We need the area to filter the empty images\n",
    "        if not boxes.size() == torch.Size([0]):\n",
    "            area = (boxes[:, 3] - boxes[:, 1]) * (boxes[:, 2] - boxes[:, 0])\n",
    "        else:\n",
    "            area = torch.tensor([0.])\n",
    "\n",
    "        target = {\"boxes\": boxes, \"labels\": labels, \"image_id\": image_id, \"area\": area}\n",
    "\n",
    "        img = F.to_tensor(img)\n",
    "        return img, target, img_path\n",
    "\n",
    "    def __len__(self):\n",
    "        return len(self.imgs)"
   ],
   "execution_count": null,
   "outputs": []
  },
  {
   "cell_type": "markdown",
   "metadata": {
    "id": "lQHqhLtrbWF-"
   },
   "source": [
    "We use the previously defined function to load the data. "
   ]
  },
  {
   "cell_type": "code",
   "metadata": {
    "id": "bqhZicltbWGA"
   },
   "source": [
    "import utils\n",
    "\n",
    "\n",
    "def create_datasets(data_dir):\n",
    "    # use our dataset and defined transformations\n",
    "    dataset = VOCDataset(data_dir, train=True)\n",
    "    dataset_test = VOCDataset(data_dir, train=False)\n",
    "\n",
    "    return dataset, dataset_test\n",
    "\n",
    "\n",
    "def create_dataloaders(dataset, dataset_test, batch_size, num_workers):\n",
    "    # define training and test data loaders\n",
    "    data_loader = torch.utils.data.DataLoader(\n",
    "        dataset, batch_size=batch_size, shuffle=True, num_workers=num_workers,  # to debug, fix num_workers=0\n",
    "        collate_fn=utils.collate_fn)\n",
    "\n",
    "    data_loader_test = torch.utils.data.DataLoader(\n",
    "        dataset_test, batch_size=batch_size, shuffle=False, num_workers=num_workers,\n",
    "        collate_fn=utils.collate_fn)\n",
    "    \n",
    "    return data_loader, data_loader_test"
   ],
   "execution_count": null,
   "outputs": []
  },
  {
   "cell_type": "markdown",
   "metadata": {
    "id": "4Nf7S3EfbWGD"
   },
   "source": [
    "### Evaluation metrics\n",
    "\n",
    "Likewise, the function that tests the quality of our model is defined in terms of object detection (precision and recall) and classification (among the detected objects, which ones are correctly classified according to their category).\n",
    "The function receives as parameters:\n",
    "- __model__: the CNN to evaluate.\n",
    "- __dataloader__: the loader of the test data.\n",
    "- __class_names__: names of the object classes to detect (always include the *background* class first).\n",
    "- __th_score__: the network provides each detected object with a probability between 0 and 1. This threshold discards objects with objectness such that $Pr(object)<score_{th}$.\n",
    "- __th_iou__: imposes a minimum IoU threshold from which to consider a detection as correct, that is, it is a decision on how to evaluate the system.\n",
    "- __result_dir__: path to the results directory.\n",
    "- __SAVE_OPT__: to save or not the test results as images with the * ground truth *, the predicted * bounding boxes * and the corresponding * anchors *.\n",
    "- __SAVE_FULL__: to save the total results on each image (True) or save them in different folders for each size of * anchor * for later analysis (False).\n",
    "- __VERBOSE__: prints on screen the total evaluation measures (without taking into account each class) if it is False, or the totals and marginals for each class if it is True.\n",
    "- __batchsize__: must be equal to 1.\n",
    "\n",
    "The function provides as outputs:\n",
    "- __precision_RPN__ - Precision for object detection of the RPN.\n",
    "- __recall_RPN__: the recall for the detection of RPN objects.\n",
    "- __f1_score_RPN__: the F1 score for detection, which we take as the main measure of system performance.\n",
    "- __cm_global__: confusion matrix between classes for classification.\n",
    "- __prec_rec_global__: precision and recall for the classification in general.\n",
    "- __prec_rec_marginal__: precision and recall for the classification of each particular class.\n",
    "- __total_anchors__: all the anchors of the network for the test set, for further analysis.\n",
    "- __total_labels__: labels of said anchors.\n",
    "\n",
    "__IMPORTANT:__ It should be noted that the inference function returns the evaluation measures for both the RPN (`precision_RPN`,` recall_RPN` and `f1_score_RPN`), that is, these measures refer to the *objectness* or ability to detect objects from the network regardless of its category; and the final classification of the network (`cm_global`,` prec_rec_global` and `prec_rec_marginal`), which refer to how efficient the network is in classifying the outputs of the RPN according to their category."
   ]
  },
  {
   "cell_type": "code",
   "metadata": {
    "id": "jFgZZM3TbWGE"
   },
   "source": [
    "from sklearn.metrics import precision_recall_fscore_support, confusion_matrix, average_precision_score\n",
    "from sklearn.preprocessing import LabelBinarizer\n",
    "\n",
    "# Auxiliary function to compute the intersection over union between 2 bounding boxes\n",
    "from external import bb_intersection_over_union\n",
    "\n",
    "\n",
    "def test_detection_model(model, dataloader, class_names, th_score, th_iou, result_dir,\n",
    "                         SAVE_OPT=False, SAVE_FULL=False, VERBOSE=False,\n",
    "                         batch_size=1):\n",
    "    since = time.time()\n",
    "    # Standard values for anchors and image size\n",
    "    bins = [48, 96, 192, 384]\n",
    "    size_anchors = [32, 64, 128, 256, 512]\n",
    "    min_size = 800\n",
    "    max_size = 1333\n",
    "    model.eval()  # Set model to evaluate mode\n",
    "\n",
    "    # Detection measurements\n",
    "    ret = 0\n",
    "    rel = np.zeros((len(class_names) - 1,), dtype=int)\n",
    "    ret_rel = np.zeros((len(class_names) - 1), dtype=int)\n",
    "\n",
    "    # Classification measurements\n",
    "    y_true = np.zeros((0,), dtype='int')\n",
    "    y_pred = np.zeros((0,), dtype='int')\n",
    "    y_score = np.zeros((0,), dtype='int')\n",
    "    batch_counter = 0\n",
    "    total_anchors = np.zeros((0, 4), dtype='float32')\n",
    "    total_labels = np.zeros((0,), dtype=int)\n",
    "    \n",
    "    print('\\nEvaluating...')\n",
    "    with torch.no_grad():\n",
    "        # Iterate over data.\n",
    "        for inputs, targets, paths in dataloader:\n",
    "            batch_counter = batch_counter + 1\n",
    "            inputs = list(image.to(device) for image in inputs)\n",
    "            labels = [{k: v.to(device) for k, v in t.items()} for t in targets]\n",
    "            \n",
    "            # Scale factor (useful for anchor extraction)\n",
    "            size_img = inputs[0].size()[1:]\n",
    "            scale_factor = min_size / min(size_img)\n",
    "            if max(size_img) * scale_factor > max_size:\n",
    "                scale_factor = max_size / max(size_img)\n",
    "            \n",
    "            # Let's create the ground-truth boxes and labels\n",
    "            if np.array(labels[0]['boxes'].cpu()).shape[0] == 0:\n",
    "                gt_boxes = np.zeros((0, 4), dtype='float32')\n",
    "            else:\n",
    "                gt_boxes = np.array(labels[0]['boxes'].detach().cpu())\n",
    "                gt_labels = np.array(labels[0]['labels'].detach().cpu())\n",
    "                # Relevant objects per class\n",
    "                for j in range(1, len(class_names)):\n",
    "                    rel[j - 1] = rel[j - 1] + np.sum(gt_labels == j)\n",
    "\n",
    "            # Prediction: returns boxes, scores (objectness), labels (class) and anchors\n",
    "            pred = model(inputs)\n",
    "            pred[0]['scores'] = pred[0]['scores'].detach().cpu()\n",
    "            pred[0]['boxes'] = pred[0]['boxes'].detach().cpu()\n",
    "            pred[0]['labels'] = pred[0]['labels'].detach().cpu()\n",
    "            pred[0]['anchors'] = pred[0]['anchors'].detach().cpu()\n",
    "            # We use only those with scores>th_score and convert them to numpy arrays\n",
    "            if len(pred[0]['scores'].numpy()) == 0:\n",
    "                pred_boxes = np.zeros((0, 4), dtype='float32')\n",
    "                pred_labels = np.zeros((0,), dtype=int)\n",
    "            else:\n",
    "                pred_score = list(pred[0]['scores'].numpy())\n",
    "                if pred_score[0] > th_score:\n",
    "                    pred_t = [pred_score.index(x) for x in pred_score if x > th_score][-1]\n",
    "                    pred_class = [class_names[i] for i in list(pred[0]['labels'].numpy())]\n",
    "                    pred_labels = pred[0]['labels'].numpy()\n",
    "                    pred_boxes = [[i[0], i[1], i[2], i[3]] for i in list(pred[0]['boxes'].numpy())]\n",
    "                    pred_boxes = np.array(pred_boxes[:pred_t + 1])\n",
    "                    pred_anchors = [[i[0], i[1], i[2], i[3]] for i in list(pred[0]['anchors'].numpy())]\n",
    "                    pred_anchors = np.array(pred_anchors[:pred_t + 1])\n",
    "                    total_anchors = np.concatenate((total_anchors, pred_anchors), axis=0)\n",
    "                    pred_class = pred_class[:pred_t + 1]\n",
    "                    pred_labels = pred_labels[:pred_t + 1]\n",
    "                    total_labels = np.concatenate((total_labels, pred_labels), axis=0)\n",
    "                else:\n",
    "                    pred_boxes = np.zeros((0, 4), dtype='float32')\n",
    "                    pred_labels = np.zeros((0,), dtype=int)\n",
    "\n",
    "            # Retrieved objects \n",
    "            ret = ret + len(pred_labels)\n",
    "\n",
    "            # Detection statistics: we compute the intersection over union between the ground-truth objects\n",
    "            # and the retrieved ones, if it exceed th_iou, the detection is considered as a good one\n",
    "            for j in range(gt_boxes.shape[0]):\n",
    "                ious = np.zeros((pred_boxes.shape[0],), dtype='float')\n",
    "                for k in range(pred_boxes.shape[0]):\n",
    "                    ious[k] = bb_intersection_over_union(gt_boxes[j, :], pred_boxes[k, :])\n",
    "                if len(ious) > 0:\n",
    "                    iou_max = np.max(ious)\n",
    "                    pos = np.argmax(ious)\n",
    "                    if iou_max > th_iou:\n",
    "                        ret_rel[gt_labels[j] - 1] += 1\n",
    "                        y_true = np.concatenate((y_true, gt_labels[j][np.newaxis]), axis=0)\n",
    "                        y_pred = np.concatenate((y_pred, pred_labels[pos][np.newaxis]), axis=0)\n",
    "\n",
    "            # Save the images with detections and ground-truth objects in a new folder, to analyze the results\n",
    "            if SAVE_OPT and SAVE_FULL:\n",
    "                aux = paths[0].split('/')\n",
    "                folder_path = os.path.join(result_dir, 'instances_pred_full')\n",
    "                if not os.path.exists(folder_path):\n",
    "                    os.makedirs(folder_path)\n",
    "                    \n",
    "                img = np.array(F.to_pil_image(inputs[0].cpu()))\n",
    "                for i in range(pred_boxes.shape[0]):\n",
    "                    cv2.rectangle(img, (pred_boxes[i][0], pred_boxes[i][1]), (pred_boxes[i][2], pred_boxes[i][3]),\n",
    "                                  color=(255, 0, 0), thickness=1)\n",
    "                    cv2.putText(img, pred_class[i], (pred_boxes[i][0], pred_boxes[i][1]), cv2.FONT_HERSHEY_SIMPLEX, 1,\n",
    "                                (255, 255, 255), thickness=1)\n",
    "                    \n",
    "                for i in range(gt_boxes.shape[0]):\n",
    "                    cv2.rectangle(img, (gt_boxes[i][0], gt_boxes[i][1]), (gt_boxes[i][2], gt_boxes[i][3]),\n",
    "                                  color=(0, 255, 0), thickness=1)\n",
    "                    cv2.putText(img, class_names[gt_labels[i]], (gt_boxes[i][0], gt_boxes[i][1]),\n",
    "                                cv2.FONT_HERSHEY_SIMPLEX, 1, (255, 255, 255), thickness=1)\n",
    "                    \n",
    "                pred_path = folder_path + '/' + aux[-1]\n",
    "                cv2.imwrite(pred_path, cv2.cvtColor(img, cv2.COLOR_RGB2BGR))\n",
    "            \n",
    "            elif SAVE_OPT and not SAVE_FULL:\n",
    "                aux = paths[0].split('/')\n",
    "                folder_path = os.path.join(result_dir, 'instances_pred')\n",
    "                if not os.path.exists(folder_path):\n",
    "                    os.makedirs(folder_path)\n",
    "                    \n",
    "                for i in range(pred_boxes.shape[0]):\n",
    "                    anchor_size = size_anchors[np.digitize(\n",
    "                        np.sqrt((pred_anchors[i, 2] - pred_anchors[i, 0]) * (pred_anchors[i, 3] - pred_anchors[i, 1])),\n",
    "                        bins)]\n",
    "                    img = np.array(F.to_pil_image(inputs[0].cpu()))\n",
    "                    cv2.rectangle(img, (pred_boxes[i][0], pred_boxes[i][1]), (pred_boxes[i][2], pred_boxes[i][3]),\n",
    "                                  color=(255, 0, 0), thickness=1)\n",
    "                    cv2.rectangle(img, (int(pred_anchors[i][0] / scale_factor), int(pred_anchors[i][1] / scale_factor)),\n",
    "                                  (int(pred_anchors[i][2] / scale_factor), int(pred_anchors[i][3] / scale_factor)),\n",
    "                                  color=(0, 0, 255), thickness=1)\n",
    "                    cv2.putText(img, pred_class[i], (pred_boxes[i][0], pred_boxes[i][1]), cv2.FONT_HERSHEY_SIMPLEX, 1,\n",
    "                                (255, 255, 255), thickness=1)\n",
    "                    \n",
    "                    for j in range(gt_boxes.shape[0]):\n",
    "                        cv2.rectangle(img, (gt_boxes[j][0], gt_boxes[j][1]), (gt_boxes[j][2], gt_boxes[j][3]),\n",
    "                                      color=(0, 255, 0), thickness=1)\n",
    "                        cv2.putText(img, class_names[gt_labels[j]], (gt_boxes[j][0], gt_boxes[j][1]),\n",
    "                                    cv2.FONT_HERSHEY_SIMPLEX, 1, (255, 255, 255), thickness=1)\n",
    "                    \n",
    "                    img_path = os.path.join(folder_path, str(anchor_size))\n",
    "                    if not os.path.exists(img_path):\n",
    "                        os.makedirs(img_path)\n",
    "                        \n",
    "                    pred_path = f'{folder_path}/{anchor_size}/{aux[-1][:-4]}_{i}.png'\n",
    "                    cv2.imwrite(pred_path, cv2.cvtColor(img, cv2.COLOR_RGB2BGR))\n",
    "\n",
    "            torch.cuda.empty_cache()\n",
    "\n",
    "    # Detection statistics: precision and recall per class\n",
    "    precision_RPN = 0\n",
    "    if ret > 0:\n",
    "        precision_RPN = np.sum(ret_rel) / ret\n",
    "        \n",
    "    recall_RPN = np.zeros((rel.size,), dtype='float32')\n",
    "    for j in range(rel.size):\n",
    "        if rel[j] > 0:\n",
    "            recall_RPN[j] = ret_rel[j] / rel[j]\n",
    "        else:\n",
    "            recall_RPN[j] = 0\n",
    "\n",
    "    # F1 score(weighted mean of precision and recall)\n",
    "    if np.mean(recall_RPN) == 0 or precision_RPN == 0:\n",
    "        f1_score_RPN = 0\n",
    "    else:\n",
    "        f1_score_RPN = 2 * np.mean(recall_RPN) * precision_RPN / (np.mean(recall_RPN) + precision_RPN)\n",
    "\n",
    "    # Classification statistics: precision and recall\n",
    "    prec_rec_marginal = precision_recall_fscore_support(y_true, y_pred, average=None,\n",
    "                                                        labels=[f for f in range(1, len(class_names))], zero_division=0)\n",
    "    prec_rec_global = precision_recall_fscore_support(y_true, y_pred, average='macro',\n",
    "                                                      labels=[f for f in range(1, len(class_names))], zero_division=0)\n",
    "    # Confusion matrix\n",
    "    cm_global = confusion_matrix(y_true, y_pred, labels=None, sample_weight=None, normalize=None)\n",
    "    \n",
    "    time_elapsed = time.time() - since\n",
    "    print(f'Evaluation complete in {int(time_elapsed // 60)}m {time_elapsed % 60}s')\n",
    "    print(f'Objectness-RPN. F1: {f1_score_RPN}.     Precision: {precision_RPN}. Recall: {np.mean(recall_RPN)}')\n",
    "    \n",
    "    if VERBOSE:\n",
    "        for i in range(1, len(class_names)):\n",
    "            print(f'Class: {class_names[i]}. Recall: {ret_rel[i - 1]}/{rel[i - 1]}')\n",
    "        print('')\n",
    "    if prec_rec_global[0] + prec_rec_global[1] > 0:\n",
    "        f1_class_global = 2 * prec_rec_global[0] * prec_rec_global[1] / (prec_rec_global[0] + prec_rec_global[1])\n",
    "    else:\n",
    "        f1_class_global = 0\n",
    "\n",
    "    print(f'Global classification: F1: {f1_class_global}.     Precision: {prec_rec_global[0]}. Recall: {prec_rec_global[1]}')\n",
    "    \n",
    "    if VERBOSE:\n",
    "        for i in range(1, len(class_names)):\n",
    "            if (prec_rec_marginal[0][i - 1] + prec_rec_marginal[1][i - 1]) > 0:\n",
    "                f1_class = 2 * prec_rec_marginal[0][i - 1] * prec_rec_marginal[1][i - 1] / (\n",
    "                        prec_rec_marginal[0][i - 1] + prec_rec_marginal[1][i - 1])\n",
    "            else:\n",
    "                f1_class = 0\n",
    "            \n",
    "            print(f'Class: {class_names[i]} F1: {f1_class}.     Precision: {prec_rec_marginal[0][i - 1]}. Recall: {prec_rec_marginal[1][i - 1]}')\n",
    "    \n",
    "    return {\n",
    "        'precision': precision_RPN,\n",
    "        'recall': recall_RPN,\n",
    "        'f1_class': f1_class_global,\n",
    "        'f1_score': f1_score_RPN,\n",
    "        'cm': cm_global,\n",
    "        'prec_rec_global': prec_rec_global,\n",
    "        'prec_rec_marginal': prec_rec_marginal,\n",
    "        'anchors': total_anchors,\n",
    "        'l_t': total_labels\n",
    "    }"
   ],
   "execution_count": null,
   "outputs": []
  },
  {
   "cell_type": "markdown",
   "metadata": {
    "id": "EZpCkDLRbWGG"
   },
   "source": [
    "### Training\n",
    "\n",
    "Training is performed during $n_e$ epochs, reducing the training error rate as training progresses. The code produces a file called _log.csv_ where the variation of the loss functions in each training _epoch_ can be analyzed, as well as the corresponding precision and recall in the test set for both detection and classification. Check that the loss functions decrease (approximately) monotonously, and that the test measures stagnate as the training progresses (and become louder).\n",
    "\n",
    "__IMPORTANT:__ the best _epoch_ of the network is considered as the one that provides the best F1-score measure (harmonic mean of precision and recall) and its weights are stored."
   ]
  },
  {
   "cell_type": "code",
   "metadata": {
    "id": "FQl1bKkzbWGI"
   },
   "source": [
    "from engine import train_one_epoch, eval_one_epoch\n",
    "\n",
    "def train_model(model_ft, batch_size, num_epochs,\n",
    "                obj_thresh=0.5, iou_thresh=0.5,\n",
    "                save_every=5, save_best_f1=True,\n",
    "                result_dir='baseline_results'):\n",
    "  \n",
    "    # We create the baseline folder\n",
    "    if not os.path.exists(result_dir):\n",
    "        os.makedirs(result_dir)\n",
    "\n",
    "    # Weights for L_objectiveness, L_reg, L_cls y L_reg2\n",
    "    weights = [1, 1, 1, 1]\n",
    "\n",
    "    # Training\n",
    "    params = [p for p in model_ft.parameters() if p.requires_grad]\n",
    "    optimizer = torch.optim.SGD(params, lr=lr, momentum=0.9, weight_decay=0.0005)  # construct an optimizer\n",
    "    # and a learning rate scheduler\n",
    "    lr_scheduler = torch.optim.lr_scheduler.StepLR(optimizer, step_size=step_size, gamma=0.1)\n",
    "\n",
    "    # CSV file for training results\n",
    "    log_path = os.path.join(result_dir, 'log.csv')\n",
    "    if os.path.exists(log_path):\n",
    "        os.remove(log_path)\n",
    "\n",
    "    with open(os.path.join(log_path), 'w') as csv_file:\n",
    "        coord_writer = csv.writer(csv_file, delimiter=',', quotechar='\"', quoting=csv.QUOTE_MINIMAL)\n",
    "        coord_writer.writerow(['Train total', 'Train rpn_box_reg', 'Train objectness', 'Train box_reg', 'Train classifier',\n",
    "                               'Val total', 'Val rpn_box_reg', 'Val objectness', 'Val box_reg', 'Val classifier'])\n",
    "      \n",
    "    # info based on obj thresh and iou thresh\n",
    "    info = f'obj{str(obj_thresh).replace(\".\", \"-\")}_iou{str(iou_thresh).replace(\".\", \"-\")}'  # i.e. obj0-5_iou0-5\n",
    "\n",
    "    last_epoch = get_last_epoch(result_dir, f'f-rcnn_{info}', num_epochs)  # 0 if no checkpoint is found\n",
    "\n",
    "    best_f1 = -0.0001\n",
    "    for epoch in range(last_epoch, num_epochs):\n",
    "        print(f\"\\nEpoch: {epoch + 1}/{num_epochs}\")\n",
    "\n",
    "        model_path = os.path.join(result_dir, f'f-rcnn_{info}_e{epoch}.pth')  # i.e. f-rcnn_obj0-5_iou0-5_e10.pth\n",
    "        \n",
    "        if not os.path.exists(model_path):\n",
    "            # train for one epoch, printing every epoch\n",
    "            train_aux_losses = train_one_epoch(model_ft, optimizer, data_loader, device, weights, epoch, print_freq=250)\n",
    "            # Update the learning rate\n",
    "            lr_scheduler.step()\n",
    "            # Validation\n",
    "            val_aux_losses = eval_one_epoch(model_ft, data_loader_test, device, epoch, print_freq=250)\n",
    "            print(val_aux_losses)\n",
    "            # Evaluation\n",
    "            results = test_detection_model(model_ft, data_loader_test,\n",
    "                                                class_names, obj_thresh, iou_thresh,\n",
    "                                                result_dir, False, False, False,\n",
    "                                                batch_size=batch_size)\n",
    "            # Save best model based on f1 score\n",
    "            if save_best_f1:\n",
    "                f1_score = results['f1_score']\n",
    "                if f1_score > best_f1:\n",
    "                    torch.save(state, os.path.join(result_dir, f'best_model_{info}_e{epoch}.pth'))\n",
    "                    best_f1 = f1_score\n",
    "            \n",
    "            # Save model every N epochs\n",
    "            if epoch % save_every == 0:\n",
    "                # Save the state and the model with best AP-score for inference\n",
    "                state = {'epoch': epoch + 1, 'state_dict': model_ft.state_dict(),\n",
    "                        'optimizer': optimizer.state_dict(),\n",
    "                        'scheduler': lr_scheduler.state_dict(), }\n",
    "                torch.save(state, model_path)\n",
    "            \n",
    "            # Save the losses\n",
    "            write_log(log_path, train_aux_losses, val_aux_losses)\n",
    "              \n",
    "        else:\n",
    "            # Load this epoch information to resume training\n",
    "            print(f\"=> loading checkpoint '{epoch}'\")\n",
    "            checkpoint = torch.load(model_path)\n",
    "            lr_scheduler.load_state_dict(checkpoint['scheduler'])\n",
    "            model_ft.load_state_dict(checkpoint['state_dict'])\n",
    "            optimizer.load_state_dict(checkpoint['optimizer'])\n",
    "            print(f\"=> loaded checkpoint '{epoch}'\")"
   ],
   "execution_count": null,
   "outputs": []
  },
  {
   "cell_type": "markdown",
   "metadata": {
    "id": "q5jVIptizwyv"
   },
   "source": [
    "If the execution is halted mid-training for any reason, make sure to close the csv file that was opened (uncomment following cell)."
   ]
  },
  {
   "cell_type": "code",
   "metadata": {
    "id": "7xkC6MtQHDPa"
   },
   "source": [
    "import glob\n",
    "\n",
    "def get_last_epoch(result_dir, file, total_epochs):\n",
    "    models = glob.glob(f'{result_dir}/{file}*')\n",
    "    if not models:\n",
    "        return 0\n",
    "    \n",
    "    epochs = [int(model.split('.')[0].split('_')[-1][1:]) for model in models]\n",
    "    epoch_no = list(filter(lambda x: x <= total_epochs, epochs))[-1]\n",
    "\n",
    "    return epoch_no"
   ],
   "execution_count": null,
   "outputs": []
  },
  {
   "cell_type": "code",
   "metadata": {
    "id": "o2iqCZGrHxke"
   },
   "source": [
    "def write_log(log_path, train_aux_losses, val_aux_losses):\n",
    "    with open(os.path.join(log_path), 'a') as csv_file:\n",
    "        coord_writer = csv.writer(csv_file, delimiter=',', quotechar='\"', quoting=csv.QUOTE_MINIMAL)\n",
    "        coord_writer.writerow(\n",
    "            [str(train_aux_losses['total']), str(train_aux_losses['rpn_box_reg']), str(train_aux_losses['objectness']),\n",
    "            str(train_aux_losses['box_reg']), str(train_aux_losses['classifier']),\n",
    "            str(val_aux_losses['total']), str(val_aux_losses['rpn_box_reg']), str(val_aux_losses['objectness']),\n",
    "            str(val_aux_losses['box_reg']), str(val_aux_losses['classifier'])])\n",
    "        \n",
    "        # ['Train total', 'Train rpn_box_reg', 'Train objectness',\n",
    "        #  'Train box_reg', 'Train classifier',\n",
    "        #  'Val total', 'Val rpn_box_reg', 'Val objectness',\n",
    "        #  'Val box_reg', 'Val classifier']"
   ],
   "execution_count": null,
   "outputs": []
  },
  {
   "cell_type": "markdown",
   "metadata": {
    "id": "0P-Dx8U-bWGL"
   },
   "source": [
    "### Evaluation\n",
    "\n",
    "After training the network, the results for the test set will be obtained. First, the weights of the trained network are loaded into the model and the evaluation function is called. Pay attention to the parameters that the function receives.\n",
    "\n",
    "Analyze the information that the function returns. Notice the difference between the measures of *objectness* on the RPN and the system's final detected object classification measures."
   ]
  },
  {
   "cell_type": "code",
   "metadata": {
    "id": "g78jjtO5gkQe"
   },
   "source": [
    "# # Inference\n",
    "# model_weights = torch.load(os.path.join(result_dir,'best_model.pth'.format(num_epochs-1)))['state_dict']\n",
    "# model_ft.load_state_dict(model_weights)\n",
    "# _ = test_detection_model(model_ft, data_loader_test, class_names, 0.5, 0.5, result_dir, True, False, True)"
   ],
   "execution_count": null,
   "outputs": []
  },
  {
   "cell_type": "markdown",
   "metadata": {
    "id": "OJ6thL68bWGQ"
   },
   "source": [
    "## Part 3. Experiments.\n",
    "\n",
    "This section will contain the experiments and analysis implemented by the student. These, along with the answers to the questions proposed during the section, will be used to evaluate the student's knowledge on the topic of object detection and, therefore, will determine their grade for this laboratory.\n",
    "\n",
    "Note that implementation answers should be provided in the empty code cells whereas textual justification should be written in the empty text cells. You can generate additional cells (both text and code) if you deem it necessary. "
   ]
  },
  {
   "cell_type": "code",
   "metadata": {
    "id": "7wTgueto6KDs"
   },
   "source": [
    "def load_model(path):\n",
    "    model_weights = torch.load(path)['state_dict']\n",
    "    model_ft.load_state_dict(model_weights)\n",
    "    return model_ft"
   ],
   "execution_count": null,
   "outputs": []
  },
  {
   "cell_type": "code",
   "metadata": {
    "id": "VhSBYzVJ5iGk"
   },
   "source": [
    "result_dir = 'baseline_results'"
   ],
   "execution_count": null,
   "outputs": []
  },
  {
   "cell_type": "code",
   "metadata": {
    "id": "x9F7JMvuw8Ut"
   },
   "source": [
    "dataset, dataset_test = create_datasets(data_dir)\n",
    "data_loader, data_loader_test = create_dataloaders(dataset, dataset_test, batch_size, num_workers=8)"
   ],
   "execution_count": null,
   "outputs": []
  },
  {
   "cell_type": "markdown",
   "metadata": {
    "id": "GxD_NSBJsYIp"
   },
   "source": [
    "### 1. Training process.\n",
    "\n",
    "Think on the input variables defined at the beginning of the notebook. How many epochs have we defined for the training process? Do you think this number is enough? Justify your answer."
   ]
  },
  {
   "cell_type": "markdown",
   "metadata": {
    "id": "TKR3MBDIs0Yu"
   },
   "source": [
    "> We think 4 epochs is not enough. The optimal way, as we will do later, should be plotting the training and validation loss and analyzing how they progress and relate to each other over epochs. However, for an a priori answer, we simply take a look at our model. While it is not a massive model, we believe that it is large enough, in size, and diverse enough, that the complexity to be able to learn or express would require a high training time, and we consider 4 epochs to be insufficient for this. "
   ]
  },
  {
   "cell_type": "markdown",
   "metadata": {
    "id": "b8bxxc8zs2wj"
   },
   "source": [
    "Increase the number of epochs until the model reaches a F1 score in the testing process reaches a value of $F1>0.9$. Note that the after training the net, the weights of the model are stored, so additional epochs can be added without the need for trainig the whole system again.\n",
    "\n",
    "You can also try altering other training parameters (e.g. IoU and objectness threshold), but note that this will alter the training process, so tread carefully. "
   ]
  },
  {
   "cell_type": "code",
   "metadata": {
    "id": "7Bxhwb_tbGzE",
    "colab": {
     "base_uri": "https://localhost:8080/"
    },
    "outputId": "eecc0b05-762b-4778-ef4b-362ff6daa31b"
   },
   "source": [
    "# num_epochs = 25\n",
    "# model_ft = get_model_detection(num_classes, device)\n",
    "\n",
    "# train_model(model_ft, batch_size, num_epochs=num_epochs,\n",
    "#             obj_thresh=0.5, iou_thresh=0.5,\n",
    "#             save_every=1, save_best_f1=False, result_dir='baseline_results')"
   ],
   "execution_count": null,
   "outputs": [
    {
     "output_type": "stream",
     "name": "stdout",
     "text": [
      "\n",
      "Epoch: 1/25\n",
      "(TRAIN) Epoch: [0]  [233/234]  eta: 0:00:00  lr: 0.001000  loss: 0.6000 (1.3363)  loss_classifier: 0.0435 (0.2183)  loss_box_reg: 0.0282 (0.0764)  loss_objectness: 0.5372 (0.9285)  loss_rpn_box_reg: 0.0182 (0.1131)  time: 0.3059  data: 0.0025  max mem: 5385\n",
      "(TRAIN) Epoch: [0] Total time: 0:01:14 (0.3190 s / it)\n",
      "(VAL) Epoch: [0]  [67/68]  eta: 0:00:00  loss: 0.3448 (0.5051)  loss_classifier: 0.1085 (0.1246)  loss_box_reg: 0.0910 (0.1049)  loss_objectness: 0.1185 (0.2608)  loss_rpn_box_reg: 0.0097 (0.0147)  time: 0.1092  data: 0.0027  max mem: 5385\n",
      "(VAL) Epoch: [0] Total time: 0:00:08 (0.1190 s / it)\n",
      "\n",
      "Evaluating...\n",
      "Evaluation complete in 0.0m 10.157198905944824s\n",
      "Objectness-RPN. F1: 0.3756683334816954.     Precision: 0.7090909090909091. Recall: 0.25551995635032654\n",
      "Global classification: F1: 0.45098039215686275.     Precision: 0.4107142857142857. Recall: 0.5\n",
      "\n",
      "Epoch: 2/25\n",
      "(TRAIN) Epoch: [1]  [233/234]  eta: 0:00:00  lr: 0.001000  loss: 0.2557 (0.4950)  loss_classifier: 0.0839 (0.0636)  loss_box_reg: 0.0655 (0.0544)  loss_objectness: 0.0858 (0.3185)  loss_rpn_box_reg: 0.0113 (0.0585)  time: 0.2991  data: 0.0029  max mem: 5443\n",
      "(TRAIN) Epoch: [1] Total time: 0:01:12 (0.3088 s / it)\n",
      "(VAL) Epoch: [1]  [67/68]  eta: 0:00:00  loss: 0.3084 (0.4764)  loss_classifier: 0.0645 (0.0901)  loss_box_reg: 0.0558 (0.0811)  loss_objectness: 0.1184 (0.2830)  loss_rpn_box_reg: 0.0120 (0.0222)  time: 0.1100  data: 0.0033  max mem: 5443\n",
      "(VAL) Epoch: [1] Total time: 0:00:08 (0.1195 s / it)\n",
      "\n",
      "Evaluating...\n",
      "Evaluation complete in 0.0m 10.904906511306763s\n",
      "Objectness-RPN. F1: 0.4743376013488613.     Precision: 0.4666666666666667. Recall: 0.4822649359703064\n",
      "Global classification: F1: 0.6154266958424508.     Precision: 0.6793478260869565. Recall: 0.5625\n",
      "\n",
      "Epoch: 3/25\n",
      "(TRAIN) Epoch: [2]  [233/234]  eta: 0:00:00  lr: 0.001000  loss: 0.3903 (0.4439)  loss_classifier: 0.0604 (0.0547)  loss_box_reg: 0.0393 (0.0452)  loss_objectness: 0.0838 (0.3005)  loss_rpn_box_reg: 0.0071 (0.0434)  time: 0.3009  data: 0.0028  max mem: 5443\n",
      "(TRAIN) Epoch: [2] Total time: 0:01:12 (0.3088 s / it)\n",
      "(VAL) Epoch: [2]  [67/68]  eta: 0:00:00  loss: 0.2537 (0.4167)  loss_classifier: 0.0692 (0.0831)  loss_box_reg: 0.0455 (0.0680)  loss_objectness: 0.1019 (0.2488)  loss_rpn_box_reg: 0.0096 (0.0168)  time: 0.1095  data: 0.0027  max mem: 5443\n",
      "(VAL) Epoch: [2] Total time: 0:00:08 (0.1187 s / it)\n",
      "\n",
      "Evaluating...\n",
      "Evaluation complete in 0.0m 10.181744575500488s\n",
      "Objectness-RPN. F1: 0.535836716012551.     Precision: 0.48044692737430167. Recall: 0.6056623458862305\n",
      "Global classification: F1: 0.8699805464163819.     Precision: 0.915530303030303. Recall: 0.8287483912483913\n",
      "\n",
      "Epoch: 4/25\n",
      "(TRAIN) Epoch: [3]  [233/234]  eta: 0:00:00  lr: 0.001000  loss: 0.1735 (0.3158)  loss_classifier: 0.0002 (0.0460)  loss_box_reg: 0.0000 (0.0409)  loss_objectness: 0.0812 (0.1774)  loss_rpn_box_reg: 0.0839 (0.0516)  time: 0.3005  data: 0.0025  max mem: 5443\n",
      "(TRAIN) Epoch: [3] Total time: 0:01:12 (0.3084 s / it)\n",
      "(VAL) Epoch: [3]  [67/68]  eta: 0:00:00  loss: 0.2098 (0.3207)  loss_classifier: 0.0615 (0.1028)  loss_box_reg: 0.0446 (0.0846)  loss_objectness: 0.0460 (0.1179)  loss_rpn_box_reg: 0.0095 (0.0154)  time: 0.1099  data: 0.0031  max mem: 5443\n",
      "(VAL) Epoch: [3] Total time: 0:00:08 (0.1193 s / it)\n",
      "\n",
      "Evaluating...\n",
      "Evaluation complete in 0.0m 10.17276406288147s\n",
      "Objectness-RPN. F1: 0.4646828021994006.     Precision: 0.33793103448275863. Recall: 0.7435897588729858\n",
      "Global classification: F1: 0.8701446793726423.     Precision: 0.9026709401709401. Recall: 0.8398809523809524\n",
      "\n",
      "Epoch: 5/25\n",
      "(TRAIN) Epoch: [4]  [233/234]  eta: 0:00:00  lr: 0.001000  loss: 0.1472 (0.2626)  loss_classifier: 0.0246 (0.0379)  loss_box_reg: 0.0138 (0.0354)  loss_objectness: 0.0324 (0.1350)  loss_rpn_box_reg: 0.0082 (0.0544)  time: 0.3073  data: 0.0028  max mem: 5443\n",
      "(TRAIN) Epoch: [4] Total time: 0:01:12 (0.3081 s / it)\n",
      "(VAL) Epoch: [4]  [67/68]  eta: 0:00:00  loss: 0.2265 (0.3654)  loss_classifier: 0.0766 (0.1104)  loss_box_reg: 0.0492 (0.0691)  loss_objectness: 0.0315 (0.1715)  loss_rpn_box_reg: 0.0113 (0.0144)  time: 0.1089  data: 0.0027  max mem: 5443\n",
      "(VAL) Epoch: [4] Total time: 0:00:08 (0.1189 s / it)\n",
      "\n",
      "Evaluating...\n",
      "Evaluation complete in 0.0m 10.276804447174072s\n",
      "Objectness-RPN. F1: 0.604530791152141.     Precision: 0.536144578313253. Recall: 0.6929131150245667\n",
      "Global classification: F1: 0.9128648130597404.     Precision: 0.9377203290246768. Recall: 0.8892929292929292\n",
      "\n",
      "Epoch: 6/25\n",
      "(TRAIN) Epoch: [5]  [233/234]  eta: 0:00:00  lr: 0.000100  loss: 0.0651 (0.1474)  loss_classifier: 0.0003 (0.0295)  loss_box_reg: 0.0000 (0.0260)  loss_objectness: 0.0407 (0.0801)  loss_rpn_box_reg: 0.0132 (0.0118)  time: 0.2937  data: 0.0027  max mem: 5443\n",
      "(TRAIN) Epoch: [5] Total time: 0:01:12 (0.3085 s / it)\n",
      "(VAL) Epoch: [5]  [67/68]  eta: 0:00:00  loss: 0.1673 (0.2943)  loss_classifier: 0.0661 (0.0921)  loss_box_reg: 0.0343 (0.0617)  loss_objectness: 0.0396 (0.1293)  loss_rpn_box_reg: 0.0101 (0.0111)  time: 0.1091  data: 0.0026  max mem: 5443\n",
      "(VAL) Epoch: [5] Total time: 0:00:08 (0.1187 s / it)\n",
      "\n",
      "Evaluating...\n",
      "Evaluation complete in 0.0m 10.137481689453125s\n",
      "Objectness-RPN. F1: 0.6324936227911663.     Precision: 0.5549132947976878. Recall: 0.7352920174598694\n",
      "Global classification: F1: 0.8935046467885551.     Precision: 0.8964285714285716. Recall: 0.8905997343497343\n",
      "\n",
      "Epoch: 7/25\n",
      "(TRAIN) Epoch: [6]  [233/234]  eta: 0:00:00  lr: 0.000100  loss: 0.0499 (0.1062)  loss_classifier: 0.0193 (0.0287)  loss_box_reg: 0.0073 (0.0251)  loss_objectness: 0.0188 (0.0402)  loss_rpn_box_reg: 0.0122 (0.0121)  time: 0.3085  data: 0.0028  max mem: 5443\n",
      "(TRAIN) Epoch: [6] Total time: 0:01:12 (0.3091 s / it)\n",
      "(VAL) Epoch: [6]  [67/68]  eta: 0:00:00  loss: 0.1556 (0.3017)  loss_classifier: 0.0739 (0.0914)  loss_box_reg: 0.0325 (0.0609)  loss_objectness: 0.0469 (0.1397)  loss_rpn_box_reg: 0.0095 (0.0097)  time: 0.1090  data: 0.0027  max mem: 5443\n",
      "(VAL) Epoch: [6] Total time: 0:00:08 (0.1185 s / it)\n",
      "\n",
      "Evaluating...\n",
      "Evaluation complete in 0.0m 10.165491580963135s\n",
      "Objectness-RPN. F1: 0.6333900539370431.     Precision: 0.5523255813953488. Recall: 0.7423433065414429\n",
      "Global classification: F1: 0.8880977279067096.     Precision: 0.8932649667405765. Recall: 0.8829899267399267\n",
      "\n",
      "Epoch: 8/25\n",
      "(TRAIN) Epoch: [7]  [233/234]  eta: 0:00:00  lr: 0.000100  loss: 0.0631 (0.0969)  loss_classifier: 0.0202 (0.0275)  loss_box_reg: 0.0085 (0.0237)  loss_objectness: 0.0195 (0.0307)  loss_rpn_box_reg: 0.0150 (0.0150)  time: 0.3053  data: 0.0029  max mem: 5443\n",
      "(TRAIN) Epoch: [7] Total time: 0:01:12 (0.3092 s / it)\n",
      "(VAL) Epoch: [7]  [67/68]  eta: 0:00:00  loss: 0.1557 (0.2730)  loss_classifier: 0.0705 (0.0914)  loss_box_reg: 0.0313 (0.0603)  loss_objectness: 0.0461 (0.1103)  loss_rpn_box_reg: 0.0095 (0.0110)  time: 0.1092  data: 0.0027  max mem: 5443\n",
      "(VAL) Epoch: [7] Total time: 0:00:08 (0.1193 s / it)\n",
      "\n",
      "Evaluating...\n",
      "Evaluation complete in 0.0m 10.13772964477539s\n",
      "Objectness-RPN. F1: 0.6599901172192694.     Precision: 0.5987261146496815. Recall: 0.7352207899093628\n",
      "Global classification: F1: 0.8923430974379359.     Precision: 0.9075396825396824. Recall: 0.8776470588235294\n",
      "\n",
      "Epoch: 9/25\n",
      "(TRAIN) Epoch: [8]  [233/234]  eta: 0:00:00  lr: 0.000100  loss: 0.0666 (0.0912)  loss_classifier: 0.0267 (0.0270)  loss_box_reg: 0.0149 (0.0231)  loss_objectness: 0.0182 (0.0242)  loss_rpn_box_reg: 0.0130 (0.0168)  time: 0.3059  data: 0.0028  max mem: 5443\n",
      "(TRAIN) Epoch: [8] Total time: 0:01:12 (0.3080 s / it)\n",
      "(VAL) Epoch: [8]  [67/68]  eta: 0:00:00  loss: 0.1383 (0.2751)  loss_classifier: 0.0734 (0.0944)  loss_box_reg: 0.0331 (0.0614)  loss_objectness: 0.0476 (0.1059)  loss_rpn_box_reg: 0.0107 (0.0133)  time: 0.1095  data: 0.0029  max mem: 5443\n",
      "(VAL) Epoch: [8] Total time: 0:00:08 (0.1184 s / it)\n",
      "\n",
      "Evaluating...\n",
      "Evaluation complete in 0.0m 10.155738592147827s\n",
      "Objectness-RPN. F1: 0.6562856690520421.     Precision: 0.6052631578947368. Recall: 0.7167022824287415\n",
      "Global classification: F1: 0.8776411245652823.     Precision: 0.8775584795321638. Recall: 0.8777237851662403\n",
      "\n",
      "Epoch: 10/25\n",
      "(TRAIN) Epoch: [9]  [233/234]  eta: 0:00:00  lr: 0.000100  loss: 0.0348 (0.0878)  loss_classifier: 0.0001 (0.0268)  loss_box_reg: 0.0000 (0.0225)  loss_objectness: 0.0094 (0.0217)  loss_rpn_box_reg: 0.0114 (0.0168)  time: 0.3080  data: 0.0027  max mem: 5443\n",
      "(TRAIN) Epoch: [9] Total time: 0:01:13 (0.3139 s / it)\n",
      "(VAL) Epoch: [9]  [67/68]  eta: 0:00:00  loss: 0.1323 (0.2587)  loss_classifier: 0.0592 (0.0925)  loss_box_reg: 0.0334 (0.0609)  loss_objectness: 0.0403 (0.0946)  loss_rpn_box_reg: 0.0087 (0.0106)  time: 0.1093  data: 0.0027  max mem: 5443\n",
      "(VAL) Epoch: [9] Total time: 0:00:08 (0.1192 s / it)\n",
      "\n",
      "Evaluating...\n",
      "Evaluation complete in 0.0m 10.179884672164917s\n",
      "Objectness-RPN. F1: 0.6376063979982779.     Precision: 0.562874251497006. Recall: 0.7352207899093628\n",
      "Global classification: F1: 0.9080759421932559.     Precision: 0.91875. Recall: 0.8976470588235295\n",
      "\n",
      "Epoch: 11/25\n",
      "(TRAIN) Epoch: [10]  [233/234]  eta: 0:00:00  lr: 0.000010  loss: 0.0355 (0.0758)  loss_classifier: 0.0060 (0.0257)  loss_box_reg: 0.0043 (0.0220)  loss_objectness: 0.0064 (0.0208)  loss_rpn_box_reg: 0.0039 (0.0072)  time: 0.3036  data: 0.0027  max mem: 5443\n",
      "(TRAIN) Epoch: [10] Total time: 0:01:12 (0.3085 s / it)\n",
      "(VAL) Epoch: [10]  [67/68]  eta: 0:00:00  loss: 0.1365 (0.2630)  loss_classifier: 0.0604 (0.0931)  loss_box_reg: 0.0333 (0.0612)  loss_objectness: 0.0422 (0.1001)  loss_rpn_box_reg: 0.0074 (0.0086)  time: 0.1091  data: 0.0026  max mem: 5443\n",
      "(VAL) Epoch: [10] Total time: 0:00:08 (0.1191 s / it)\n",
      "\n",
      "Evaluating...\n",
      "Evaluation complete in 0.0m 10.142405986785889s\n",
      "Objectness-RPN. F1: 0.6476387357215548.     Precision: 0.5757575757575758. Recall: 0.7400285005569458\n",
      "Global classification: F1: 0.9087044553814893.     Precision: 0.9198170731707316. Recall: 0.8978571428571429\n",
      "\n",
      "Epoch: 12/25\n",
      "(TRAIN) Epoch: [11]  [233/234]  eta: 0:00:00  lr: 0.000010  loss: 0.0381 (0.0740)  loss_classifier: 0.0103 (0.0252)  loss_box_reg: 0.0065 (0.0219)  loss_objectness: 0.0106 (0.0202)  loss_rpn_box_reg: 0.0037 (0.0067)  time: 0.3048  data: 0.0030  max mem: 5443\n",
      "(TRAIN) Epoch: [11] Total time: 0:01:12 (0.3089 s / it)\n",
      "(VAL) Epoch: [11]  [67/68]  eta: 0:00:00  loss: 0.1368 (0.2666)  loss_classifier: 0.0605 (0.0948)  loss_box_reg: 0.0336 (0.0605)  loss_objectness: 0.0411 (0.1027)  loss_rpn_box_reg: 0.0071 (0.0087)  time: 0.1093  data: 0.0027  max mem: 5443\n",
      "(VAL) Epoch: [11] Total time: 0:00:08 (0.1194 s / it)\n",
      "\n",
      "Evaluating...\n",
      "Evaluation complete in 0.0m 10.108877182006836s\n",
      "Objectness-RPN. F1: 0.6563682819514023.     Precision: 0.5853658536585366. Recall: 0.7469729781150818\n",
      "Global classification: F1: 0.9089013961377246.     Precision: 0.9198170731707316. Recall: 0.8982417582417583\n",
      "\n",
      "Epoch: 13/25\n",
      "(TRAIN) Epoch: [12]  [233/234]  eta: 0:00:00  lr: 0.000010  loss: 0.0272 (0.0735)  loss_classifier: 0.0001 (0.0255)  loss_box_reg: 0.0000 (0.0219)  loss_objectness: 0.0129 (0.0194)  loss_rpn_box_reg: 0.0048 (0.0066)  time: 0.3069  data: 0.0027  max mem: 5443\n",
      "(TRAIN) Epoch: [12] Total time: 0:01:12 (0.3086 s / it)\n",
      "(VAL) Epoch: [12]  [67/68]  eta: 0:00:00  loss: 0.1563 (0.2714)  loss_classifier: 0.0603 (0.0951)  loss_box_reg: 0.0337 (0.0606)  loss_objectness: 0.0437 (0.1069)  loss_rpn_box_reg: 0.0069 (0.0086)  time: 0.1090  data: 0.0027  max mem: 5443\n",
      "(VAL) Epoch: [12] Total time: 0:00:08 (0.1187 s / it)\n",
      "\n",
      "Evaluating...\n",
      "Evaluation complete in 0.0m 10.101269483566284s\n",
      "Objectness-RPN. F1: 0.6541320759780741.     Precision: 0.5818181818181818. Recall: 0.7469729781150818\n",
      "Global classification: F1: 0.9089013961377246.     Precision: 0.9198170731707316. Recall: 0.8982417582417583\n",
      "\n",
      "Epoch: 14/25\n",
      "(TRAIN) Epoch: [13]  [233/234]  eta: 0:00:00  lr: 0.000010  loss: 0.0137 (0.0732)  loss_classifier: 0.0001 (0.0255)  loss_box_reg: 0.0000 (0.0218)  loss_objectness: 0.0067 (0.0194)  loss_rpn_box_reg: 0.0030 (0.0066)  time: 0.3013  data: 0.0028  max mem: 5443\n",
      "(TRAIN) Epoch: [13] Total time: 0:01:12 (0.3083 s / it)\n",
      "(VAL) Epoch: [13]  [67/68]  eta: 0:00:00  loss: 0.1368 (0.2734)  loss_classifier: 0.0605 (0.0962)  loss_box_reg: 0.0338 (0.0608)  loss_objectness: 0.0408 (0.1075)  loss_rpn_box_reg: 0.0075 (0.0088)  time: 0.1092  data: 0.0028  max mem: 5443\n",
      "(VAL) Epoch: [13] Total time: 0:00:08 (0.1191 s / it)\n",
      "\n",
      "Evaluating...\n",
      "Evaluation complete in 0.0m 10.133575677871704s\n",
      "Objectness-RPN. F1: 0.6541320759780741.     Precision: 0.5818181818181818. Recall: 0.7469729781150818\n",
      "Global classification: F1: 0.9089013961377246.     Precision: 0.9198170731707316. Recall: 0.8982417582417583\n",
      "\n",
      "Epoch: 15/25\n",
      "(TRAIN) Epoch: [14]  [233/234]  eta: 0:00:00  lr: 0.000010  loss: 0.0377 (0.0738)  loss_classifier: 0.0147 (0.0258)  loss_box_reg: 0.0086 (0.0217)  loss_objectness: 0.0074 (0.0196)  loss_rpn_box_reg: 0.0034 (0.0067)  time: 0.3119  data: 0.0028  max mem: 5443\n",
      "(TRAIN) Epoch: [14] Total time: 0:01:12 (0.3086 s / it)\n",
      "(VAL) Epoch: [14]  [67/68]  eta: 0:00:00  loss: 0.1330 (0.2685)  loss_classifier: 0.0607 (0.0944)  loss_box_reg: 0.0338 (0.0607)  loss_objectness: 0.0340 (0.1045)  loss_rpn_box_reg: 0.0073 (0.0088)  time: 0.1094  data: 0.0028  max mem: 5443\n",
      "(VAL) Epoch: [14] Total time: 0:00:08 (0.1199 s / it)\n",
      "\n",
      "Evaluating...\n",
      "Evaluation complete in 0.0m 10.12646770477295s\n",
      "Objectness-RPN. F1: 0.657430723676888.     Precision: 0.5900621118012422. Recall: 0.7421652674674988\n",
      "Global classification: F1: 0.9082727026496932.     Precision: 0.91875. Recall: 0.8980316742081449\n",
      "\n",
      "Epoch: 16/25\n",
      "(TRAIN) Epoch: [15]  [233/234]  eta: 0:00:00  lr: 0.000001  loss: 0.0071 (0.0724)  loss_classifier: 0.0001 (0.0253)  loss_box_reg: 0.0000 (0.0217)  loss_objectness: 0.0041 (0.0195)  loss_rpn_box_reg: 0.0017 (0.0059)  time: 0.3048  data: 0.0025  max mem: 5443\n",
      "(TRAIN) Epoch: [15] Total time: 0:01:12 (0.3083 s / it)\n",
      "(VAL) Epoch: [15]  [67/68]  eta: 0:00:00  loss: 0.1270 (0.2655)  loss_classifier: 0.0608 (0.0938)  loss_box_reg: 0.0339 (0.0605)  loss_objectness: 0.0353 (0.1027)  loss_rpn_box_reg: 0.0069 (0.0085)  time: 0.1095  data: 0.0028  max mem: 5443\n",
      "(VAL) Epoch: [15] Total time: 0:00:08 (0.1196 s / it)\n",
      "\n",
      "Evaluating...\n",
      "Evaluation complete in 0.0m 10.090534687042236s\n",
      "Objectness-RPN. F1: 0.657430723676888.     Precision: 0.5900621118012422. Recall: 0.7421652674674988\n",
      "Global classification: F1: 0.9082727026496932.     Precision: 0.91875. Recall: 0.8980316742081449\n",
      "\n",
      "Epoch: 17/25\n",
      "(TRAIN) Epoch: [16]  [233/234]  eta: 0:00:00  lr: 0.000001  loss: 0.0529 (0.0720)  loss_classifier: 0.0192 (0.0255)  loss_box_reg: 0.0122 (0.0217)  loss_objectness: 0.0093 (0.0190)  loss_rpn_box_reg: 0.0034 (0.0059)  time: 0.3069  data: 0.0029  max mem: 5443\n",
      "(TRAIN) Epoch: [16] Total time: 0:01:12 (0.3082 s / it)\n",
      "(VAL) Epoch: [16]  [67/68]  eta: 0:00:00  loss: 0.1319 (0.2719)  loss_classifier: 0.0608 (0.0955)  loss_box_reg: 0.0339 (0.0607)  loss_objectness: 0.0351 (0.1073)  loss_rpn_box_reg: 0.0077 (0.0085)  time: 0.1095  data: 0.0029  max mem: 5443\n",
      "(VAL) Epoch: [16] Total time: 0:00:08 (0.1189 s / it)\n",
      "\n",
      "Evaluating...\n",
      "Evaluation complete in 0.0m 10.142139196395874s\n",
      "Objectness-RPN. F1: 0.657430723676888.     Precision: 0.5900621118012422. Recall: 0.7421652674674988\n",
      "Global classification: F1: 0.9082727026496932.     Precision: 0.91875. Recall: 0.8980316742081449\n",
      "\n",
      "Epoch: 18/25\n",
      "(TRAIN) Epoch: [17]  [233/234]  eta: 0:00:00  lr: 0.000001  loss: 0.0107 (0.0718)  loss_classifier: 0.0001 (0.0261)  loss_box_reg: 0.0000 (0.0216)  loss_objectness: 0.0072 (0.0183)  loss_rpn_box_reg: 0.0030 (0.0059)  time: 0.3047  data: 0.0027  max mem: 5443\n",
      "(TRAIN) Epoch: [17] Total time: 0:01:12 (0.3087 s / it)\n",
      "(VAL) Epoch: [17]  [67/68]  eta: 0:00:00  loss: 0.1503 (0.2708)  loss_classifier: 0.0604 (0.0950)  loss_box_reg: 0.0339 (0.0609)  loss_objectness: 0.0469 (0.1065)  loss_rpn_box_reg: 0.0077 (0.0085)  time: 0.1094  data: 0.0027  max mem: 5443\n",
      "(VAL) Epoch: [17] Total time: 0:00:08 (0.1188 s / it)\n",
      "\n",
      "Evaluating...\n",
      "Evaluation complete in 0.0m 10.110061883926392s\n",
      "Objectness-RPN. F1: 0.6551637511555771.     Precision: 0.5864197530864198. Recall: 0.7421652674674988\n",
      "Global classification: F1: 0.9082727026496932.     Precision: 0.91875. Recall: 0.8980316742081449\n",
      "\n",
      "Epoch: 19/25\n",
      "(TRAIN) Epoch: [18]  [233/234]  eta: 0:00:00  lr: 0.000001  loss: 0.0640 (0.0726)  loss_classifier: 0.0306 (0.0259)  loss_box_reg: 0.0150 (0.0217)  loss_objectness: 0.0074 (0.0191)  loss_rpn_box_reg: 0.0041 (0.0059)  time: 0.3064  data: 0.0028  max mem: 5443\n",
      "(TRAIN) Epoch: [18] Total time: 0:01:12 (0.3085 s / it)\n",
      "(VAL) Epoch: [18]  [67/68]  eta: 0:00:00  loss: 0.1361 (0.2683)  loss_classifier: 0.0609 (0.0948)  loss_box_reg: 0.0339 (0.0608)  loss_objectness: 0.0419 (0.1043)  loss_rpn_box_reg: 0.0070 (0.0085)  time: 0.1091  data: 0.0027  max mem: 5443\n",
      "(VAL) Epoch: [18] Total time: 0:00:08 (0.1195 s / it)\n",
      "\n",
      "Evaluating...\n",
      "Evaluation complete in 0.0m 10.148808002471924s\n",
      "Objectness-RPN. F1: 0.6551637511555771.     Precision: 0.5864197530864198. Recall: 0.7421652674674988\n",
      "Global classification: F1: 0.9082727026496932.     Precision: 0.91875. Recall: 0.8980316742081449\n",
      "\n",
      "Epoch: 20/25\n",
      "(TRAIN) Epoch: [19]  [233/234]  eta: 0:00:00  lr: 0.000001  loss: 0.0476 (0.0718)  loss_classifier: 0.0176 (0.0256)  loss_box_reg: 0.0085 (0.0217)  loss_objectness: 0.0088 (0.0186)  loss_rpn_box_reg: 0.0036 (0.0059)  time: 0.3112  data: 0.0028  max mem: 5443\n",
      "(TRAIN) Epoch: [19] Total time: 0:01:12 (0.3087 s / it)\n",
      "(VAL) Epoch: [19]  [67/68]  eta: 0:00:00  loss: 0.1365 (0.2683)  loss_classifier: 0.0606 (0.0945)  loss_box_reg: 0.0339 (0.0607)  loss_objectness: 0.0431 (0.1046)  loss_rpn_box_reg: 0.0078 (0.0085)  time: 0.1092  data: 0.0028  max mem: 5443\n",
      "(VAL) Epoch: [19] Total time: 0:00:08 (0.1192 s / it)\n",
      "\n",
      "Evaluating...\n",
      "Evaluation complete in 0.0m 10.115813493728638s\n",
      "Objectness-RPN. F1: 0.6551637511555771.     Precision: 0.5864197530864198. Recall: 0.7421652674674988\n",
      "Global classification: F1: 0.9082727026496932.     Precision: 0.91875. Recall: 0.8980316742081449\n",
      "\n",
      "Epoch: 21/25\n",
      "(TRAIN) Epoch: [20]  [233/234]  eta: 0:00:00  lr: 0.000000  loss: 0.0297 (0.0727)  loss_classifier: 0.0001 (0.0262)  loss_box_reg: 0.0000 (0.0217)  loss_objectness: 0.0069 (0.0190)  loss_rpn_box_reg: 0.0017 (0.0058)  time: 0.3030  data: 0.0027  max mem: 5443\n",
      "(TRAIN) Epoch: [20] Total time: 0:01:12 (0.3090 s / it)\n",
      "(VAL) Epoch: [20]  [67/68]  eta: 0:00:00  loss: 0.1346 (0.2691)  loss_classifier: 0.0602 (0.0945)  loss_box_reg: 0.0339 (0.0607)  loss_objectness: 0.0325 (0.1054)  loss_rpn_box_reg: 0.0078 (0.0086)  time: 0.1090  data: 0.0027  max mem: 5443\n",
      "(VAL) Epoch: [20] Total time: 0:00:08 (0.1194 s / it)\n",
      "\n",
      "Evaluating...\n",
      "Evaluation complete in 0.0m 10.15924882888794s\n",
      "Objectness-RPN. F1: 0.6551637511555771.     Precision: 0.5864197530864198. Recall: 0.7421652674674988\n",
      "Global classification: F1: 0.9082727026496932.     Precision: 0.91875. Recall: 0.8980316742081449\n",
      "\n",
      "Epoch: 22/25\n",
      "(TRAIN) Epoch: [21]  [233/234]  eta: 0:00:00  lr: 0.000000  loss: 0.0448 (0.0721)  loss_classifier: 0.0110 (0.0257)  loss_box_reg: 0.0066 (0.0216)  loss_objectness: 0.0094 (0.0190)  loss_rpn_box_reg: 0.0022 (0.0059)  time: 0.3130  data: 0.0027  max mem: 5443\n",
      "(TRAIN) Epoch: [21] Total time: 0:01:12 (0.3090 s / it)\n",
      "(VAL) Epoch: [21]  [67/68]  eta: 0:00:00  loss: 0.1327 (0.2709)  loss_classifier: 0.0611 (0.0934)  loss_box_reg: 0.0339 (0.0607)  loss_objectness: 0.0357 (0.1083)  loss_rpn_box_reg: 0.0078 (0.0085)  time: 0.1097  data: 0.0029  max mem: 5443\n",
      "(VAL) Epoch: [21] Total time: 0:00:08 (0.1196 s / it)\n",
      "\n",
      "Evaluating...\n",
      "Evaluation complete in 0.0m 10.133152484893799s\n",
      "Objectness-RPN. F1: 0.6551637511555771.     Precision: 0.5864197530864198. Recall: 0.7421652674674988\n",
      "Global classification: F1: 0.9082727026496932.     Precision: 0.91875. Recall: 0.8980316742081449\n",
      "\n",
      "Epoch: 23/25\n",
      "(TRAIN) Epoch: [22]  [233/234]  eta: 0:00:00  lr: 0.000000  loss: 0.0562 (0.0720)  loss_classifier: 0.0214 (0.0257)  loss_box_reg: 0.0101 (0.0216)  loss_objectness: 0.0093 (0.0187)  loss_rpn_box_reg: 0.0037 (0.0059)  time: 0.3104  data: 0.0031  max mem: 5443\n",
      "(TRAIN) Epoch: [22] Total time: 0:01:12 (0.3090 s / it)\n",
      "(VAL) Epoch: [22]  [67/68]  eta: 0:00:00  loss: 0.1453 (0.2695)  loss_classifier: 0.0601 (0.0946)  loss_box_reg: 0.0339 (0.0607)  loss_objectness: 0.0336 (0.1057)  loss_rpn_box_reg: 0.0078 (0.0085)  time: 0.1099  data: 0.0033  max mem: 5443\n",
      "(VAL) Epoch: [22] Total time: 0:00:08 (0.1186 s / it)\n",
      "\n",
      "Evaluating...\n",
      "Evaluation complete in 0.0m 10.209437131881714s\n",
      "Objectness-RPN. F1: 0.6551637511555771.     Precision: 0.5864197530864198. Recall: 0.7421652674674988\n",
      "Global classification: F1: 0.9082727026496932.     Precision: 0.91875. Recall: 0.8980316742081449\n",
      "\n",
      "Epoch: 24/25\n",
      "(TRAIN) Epoch: [23]  [233/234]  eta: 0:00:00  lr: 0.000000  loss: 0.0501 (0.0728)  loss_classifier: 0.0176 (0.0260)  loss_box_reg: 0.0086 (0.0217)  loss_objectness: 0.0094 (0.0192)  loss_rpn_box_reg: 0.0022 (0.0059)  time: 0.2996  data: 0.0027  max mem: 5443\n",
      "(TRAIN) Epoch: [23] Total time: 0:01:12 (0.3088 s / it)\n",
      "(VAL) Epoch: [23]  [67/68]  eta: 0:00:00  loss: 0.1453 (0.2700)  loss_classifier: 0.0609 (0.0940)  loss_box_reg: 0.0339 (0.0607)  loss_objectness: 0.0383 (0.1068)  loss_rpn_box_reg: 0.0078 (0.0085)  time: 0.1093  data: 0.0028  max mem: 5443\n",
      "(VAL) Epoch: [23] Total time: 0:00:08 (0.1194 s / it)\n",
      "\n",
      "Evaluating...\n",
      "Evaluation complete in 0.0m 10.11912727355957s\n",
      "Objectness-RPN. F1: 0.6551637511555771.     Precision: 0.5864197530864198. Recall: 0.7421652674674988\n",
      "Global classification: F1: 0.9082727026496932.     Precision: 0.91875. Recall: 0.8980316742081449\n",
      "\n",
      "Epoch: 25/25\n",
      "(TRAIN) Epoch: [24]  [233/234]  eta: 0:00:00  lr: 0.000000  loss: 0.0399 (0.0723)  loss_classifier: 0.0170 (0.0257)  loss_box_reg: 0.0057 (0.0216)  loss_objectness: 0.0116 (0.0192)  loss_rpn_box_reg: 0.0026 (0.0058)  time: 0.2981  data: 0.0027  max mem: 5443\n",
      "(TRAIN) Epoch: [24] Total time: 0:01:12 (0.3086 s / it)\n",
      "(VAL) Epoch: [24]  [67/68]  eta: 0:00:00  loss: 0.1309 (0.2687)  loss_classifier: 0.0620 (0.0940)  loss_box_reg: 0.0339 (0.0607)  loss_objectness: 0.0328 (0.1055)  loss_rpn_box_reg: 0.0078 (0.0085)  time: 0.1091  data: 0.0027  max mem: 5443\n",
      "(VAL) Epoch: [24] Total time: 0:00:08 (0.1186 s / it)\n",
      "\n",
      "Evaluating...\n",
      "Evaluation complete in 0.0m 10.164318799972534s\n",
      "Objectness-RPN. F1: 0.6551637511555771.     Precision: 0.5864197530864198. Recall: 0.7421652674674988\n",
      "Global classification: F1: 0.9082727026496932.     Precision: 0.91875. Recall: 0.8980316742081449\n"
     ]
    }
   ]
  },
  {
   "cell_type": "code",
   "metadata": {
    "id": "LsUX7ZLGChUb",
    "colab": {
     "base_uri": "https://localhost:8080/",
     "height": 350
    },
    "outputId": "54e14fd0-e367-421f-9921-55c6058e19a4"
   },
   "source": [
    "import pandas as pd\n",
    "import matplotlib.pyplot as plt \n",
    "\n",
    "def draw_metrics(log_path):\n",
    "    df = pd.read_csv(log_path)\n",
    "    fig, axes = plt.subplots(nrows=1, ncols=5, figsize=(20, 5))\n",
    "\n",
    "    for idx, (train_col, val_col) in enumerate(zip(df.columns[:5], df.columns[5:])):\n",
    "        plt.subplot(1, 5, idx+1)\n",
    "        plt.title(f'{train_col} / {val_col}')\n",
    "        plt.xlabel('Number of epochs')\n",
    "        plt.plot(df[train_col])\n",
    "        plt.plot(df[val_col])\n",
    "\n",
    "    plt.show()\n",
    "\n",
    "file_path = os.path.join(result_dir, 'log.csv')\n",
    "draw_metrics(file_path)"
   ],
   "execution_count": null,
   "outputs": [
    {
     "output_type": "display_data",
     "data": {
      "image/png": "[encoded data removed]",
      "text/plain": [
       "<Figure size 1440x360 with 5 Axes>"
      ]
     },
     "metadata": {
      "needs_background": "light"
     }
    }
   ]
  },
  {
   "cell_type": "markdown",
   "metadata": {
    "id": "N6WPY-YD8wuU"
   },
   "source": [
    "> We have trained a Faster R-CNN with **25 epochs** with objectiveness and IoU thresholds of  0.5, each. The following table contains the F1 score of each epoch:\n",
    "\n",
    "| Number of epochs | F1 score (obj) | F1 score (global) |\n",
    "| --- | --- | --- |\n",
    "| 1 | 0.376 | 0.450 |\n",
    "| 2 | 0.474 | 0.615 |\n",
    "| 3 | 0.535 | 0.869 |\n",
    "| 4 | 0.464 | 0.870 |\n",
    "| 5 | 0.604 | **0.912** |\n",
    "| 6 | 0.632 | 0.894 |\n",
    "| 7 | 0.633 | 0.888 |\n",
    "| 8 | 0.660 | 0.892 |\n",
    "| 9 | 0.656 | 0.877 |\n",
    "| 10 | 0.637 | **0.908** |\n",
    "| 11 | 0.647 | 0.908 |\n",
    "| ... | ... | ... |\n",
    "| 25 | **0.655** | 0.908 |\n",
    "\n",
    "\n",
    "> As we can see, the F1 score (global) reaches value 0.912 on epoch 5. Nevertheless, on the following four epochs this value decreases until epoch 10, where the F1 score exceeds the value 0.9 again. Hereafter, the F1 score remains on 0.908, whereas the F1 score of the objectness keeps on growing.\n",
    "\n",
    "> By definition, in any neural network the number of epochs defines the number of times to update the weights. Our model training should occur on an optimal number of epochs to increase its generalization capacity, thus, we should set the number of epochs as high as possible and terminate training based on the scores rates. We expected diminishing returns, being the amount of improvement reduced with time. Indeed, as shown in the plots in the cells above, we could determine that the ideal number of epochs would be between 10 and 15.\n",
    "\n",
    "> However, the number of epochs should be selected from the condition that the error is satisfactory to our specific case, so we analyze the F1 scores, both objectness and global, also provided as table above. We came to the conclusion that, as with 25 epochs **no signs of overfitting are detected**, we expect our model with **25 epochs** ( obj score has increased , global remains equal since epoch 10) to generalize better than training with **5 epochs** (optimal global score, but worse obj score and low number of epochs).     "
   ]
  },
  {
   "cell_type": "markdown",
   "metadata": {
    "id": "CRDMaE1qbWGQ"
   },
   "source": [
    "### 2. Influence of the threshold on the results.\n",
    "\n",
    "#### __*Objectness threshold*__\n",
    "\n",
    "Analize the influence of the objectness score threshold on the results of the model. To this end, you can make use of the `test_detection_model` function to check three thresholds (0.3, 0.5, 0.7). You can support your analysis with deeper insight (marginal inference can be shown through the `VERBOSE` parameter) and visual aid (use `SAVE_OPT` to that end)."
   ]
  },
  {
   "cell_type": "code",
   "metadata": {
    "id": "UeVs4jir365p"
   },
   "source": [
    "from itertools import product\n",
    "\n",
    "def test_thresholds(model_path: str, obj_thresh: list, iou_thresh: list) -> (dict, dict):\n",
    "\n",
    "    f1_scores, f1_classes = {}, {}\n",
    "    model_ft = load_model(model_path)\n",
    "\n",
    "    for obj, iou in product(obj_thresh, iou_thresh):\n",
    "        print(f'\\nObj. threshold: {obj}  IoU threshold: {iou}')        \n",
    "        results = test_detection_model(model_ft, data_loader_test, class_names,\n",
    "                                    obj, iou, result_dir, False, False, False)\n",
    "    \n",
    "        f1_scores[f'obj={obj} iou={iou}'] = results['f1_score']\n",
    "        f1_classes[f'obj={obj} iou={iou}'] = results['f1_class']\n",
    "\n",
    "    return f1_scores, f1_classes"
   ],
   "execution_count": null,
   "outputs": []
  },
  {
   "cell_type": "code",
   "metadata": {
    "colab": {
     "base_uri": "https://localhost:8080/"
    },
    "id": "SrKU1oeTB2wp",
    "outputId": "21e99671-a226-489f-c2df-1cd8cf9f4d8b"
   },
   "source": [
    "from pprint import pprint\n",
    "\n",
    "model_name = 'f-rcnn_obj0-5_iou0-5_e24.pth'\n",
    "model_path = os.path.join(result_dir, model_name)\n",
    "\n",
    "obj_thresh, iou_thresh = [0.3, 0.5, 0.7], [0.5]\n",
    "\n",
    "f1_scores, f1_classes = test_thresholds(model_path, obj_thresh, iou_thresh)\n",
    "# pprint(f1_scores)\n",
    "# pprint(f1_classes)"
   ],
   "execution_count": null,
   "outputs": [
    {
     "output_type": "stream",
     "name": "stdout",
     "text": [
      "\n",
      "Obj. threshold: 0.3  IoU threshold: 0.5\n",
      "\n",
      "Evaluating...\n",
      "Evaluation complete in 0m 37.938013792037964s\n",
      "Objectness-RPN. F1: 0.571963147699215.     Precision: 0.4425531914893617. Recall: 0.8083333373069763\n",
      "Global classification: F1: 0.8551235058273526.     Precision: 0.8709379984051038. Recall: 0.83987308987309\n",
      "\n",
      "Obj. threshold: 0.5  IoU threshold: 0.5\n",
      "\n",
      "Evaluating...\n",
      "Evaluation complete in 0m 36.188642263412476s\n",
      "Objectness-RPN. F1: 0.6551637511555771.     Precision: 0.5864197530864198. Recall: 0.7421652674674988\n",
      "Global classification: F1: 0.9082727026496932.     Precision: 0.91875. Recall: 0.8980316742081449\n",
      "\n",
      "Obj. threshold: 0.7  IoU threshold: 0.5\n",
      "\n",
      "Evaluating...\n",
      "Evaluation complete in 0m 37.20614147186279s\n",
      "Objectness-RPN. F1: 0.6796236198224745.     Precision: 0.7476635514018691. Recall: 0.6229344606399536\n",
      "Global classification: F1: 0.9392560715787148.     Precision: 0.9494906621392191. Recall: 0.9292397660818713\n"
     ]
    }
   ]
  },
  {
   "cell_type": "code",
   "metadata": {
    "colab": {
     "base_uri": "https://localhost:8080/"
    },
    "id": "fiH-pYlTZob4",
    "outputId": "2795e378-c0fd-4554-cc73-c7822fe3bb4f"
   },
   "source": [
    "print(f'Maximum value for the F1 Score (objectness): {max(f1_scores.values())} -> {max(f1_scores, key=lambda x: f1_scores[x])}')\n",
    "print(f'Maximum value for the F1 Score (global): {max(f1_classes.values())} -> {max(f1_classes, key=lambda x: f1_classes[x])}')"
   ],
   "execution_count": null,
   "outputs": [
    {
     "output_type": "stream",
     "name": "stdout",
     "text": [
      "Maximum value for the F1 Score (objectness): 0.6796236198224745 -> obj=0.7 iou=0.5\n",
      "Maximum value for the F1 Score (global): 0.9392560715787148 -> obj=0.7 iou=0.5\n"
     ]
    }
   ]
  },
  {
   "cell_type": "markdown",
   "metadata": {
    "id": "ZqnvwMhwny9e"
   },
   "source": [
    "In order to maximize both F1 scores (objectness and global) we have developed a function that sums both values and searchs for the threshold values that maximizes that sum."
   ]
  },
  {
   "cell_type": "code",
   "metadata": {
    "colab": {
     "base_uri": "https://localhost:8080/"
    },
    "id": "6BL_3TRK_9Kb",
    "outputId": "0a7323fc-027a-47a8-eae9-ad09353a53bc"
   },
   "source": [
    "def get_max_thresh_for_f1_metrics(scores, classes):\n",
    "    assert scores.keys() == classes.keys()\n",
    "    f1_sum= list(map(sum, zip(scores.values(), classes.values())))  # sums both f1 metrics (obj and iou)\n",
    "    max_idx = np.argmax(f1_sum) # index of the maximum sum of f1 scores\n",
    "    max_thresh = list(scores.keys())[max_idx]  # get the threshold parameters\n",
    "    return max_thresh\n",
    "\n",
    "max_thresh = get_max_thresh_for_f1_metrics(f1_scores, f1_classes)\n",
    "print(f'The threshold combination that maximizes both F1 Score for objectness and F1 Score for IoU is: {max_thresh}')\n",
    "print(f'Max. F1. (obj): {f1_scores[max_thresh]}  Max. F1 (iou): {f1_classes[max_thresh]}')"
   ],
   "execution_count": null,
   "outputs": [
    {
     "output_type": "stream",
     "name": "stdout",
     "text": [
      "The threshold combination that maximizes both F1 Score for objectness and F1 Score for IoU is: obj=0.7 iou=0.5\n",
      "Max. F1. (obj): 0.6796236198224745  Max. F1 (iou): 0.9392560715787148\n"
     ]
    }
   ]
  },
  {
   "cell_type": "markdown",
   "metadata": {
    "id": "6-sqbQCbdG_j"
   },
   "source": [
    "Which threshold provides the best results? Do you think that this would be the case for all object detection problems? Justify your answer."
   ]
  },
  {
   "cell_type": "markdown",
   "metadata": {
    "id": "rvnR9uAzd15X"
   },
   "source": [
    ">When checking different values for objectness thresholds (0.3, 0.5, 0.7) and fixing the value for the IoU threshold (0.5), the best results are obtained when:\n",
    "* **Objectness threshold = 0.7**\n",
    "* **IoU threshold = 0.5**\n",
    "\n",
    ">Depending on the dataset and the respective split in train and test sets will affect the value of this parameters, as well as the batch size."
   ]
  },
  {
   "cell_type": "markdown",
   "metadata": {
    "id": "mE05lYipbWGV"
   },
   "source": [
    "#### __*IoU threshold*__\n",
    "\n",
    "Analyze the influence of the IoU threshold on the results. To this end, you can make use of the `test_detection_model` function to check three thresholds (0.3, 0.5, 0.7). You can support your analysis with deeper insight (marginal inference can be shown through the `VERBOSE` parameter) and visual aid (use `SAVE_OPT` to that end)."
   ]
  },
  {
   "cell_type": "code",
   "metadata": {
    "id": "HzeihZghdJBE",
    "colab": {
     "base_uri": "https://localhost:8080/"
    },
    "outputId": "4a6b2ff5-a256-435a-bd91-eaf5c030802b"
   },
   "source": [
    "f1_scores, f1_classes = test_thresholds(model_path,\n",
    "                                        obj_thresh=[0.5], iou_thresh=[0.3, 0.5, 0.7])"
   ],
   "execution_count": null,
   "outputs": [
    {
     "output_type": "stream",
     "name": "stdout",
     "text": [
      "\n",
      "Obj. threshold: 0.5  IoU threshold: 0.3\n",
      "\n",
      "Evaluating...\n",
      "Evaluation complete in 0m 36.24467658996582s\n",
      "Objectness-RPN. F1: 0.706395609514871.     Precision: 0.6358024691358025. Recall: 0.794622540473938\n",
      "Global classification: F1: 0.8990263284446189.     Precision: 0.9199468085106384. Recall: 0.8790361952861954\n",
      "\n",
      "Obj. threshold: 0.5  IoU threshold: 0.5\n",
      "\n",
      "Evaluating...\n",
      "Evaluation complete in 0m 34.86672019958496s\n",
      "Objectness-RPN. F1: 0.6551637511555771.     Precision: 0.5864197530864198. Recall: 0.7421652674674988\n",
      "Global classification: F1: 0.9082727026496932.     Precision: 0.91875. Recall: 0.8980316742081449\n",
      "\n",
      "Obj. threshold: 0.5  IoU threshold: 0.7\n",
      "\n",
      "Evaluating...\n",
      "Evaluation complete in 0m 36.92357850074768s\n",
      "Objectness-RPN. F1: 0.4864380170966181.     Precision: 0.43209876543209874. Recall: 0.5564102530479431\n",
      "Global classification: F1: 0.9310565495458539.     Precision: 0.9265972222222222. Recall: 0.9355590062111802\n"
     ]
    }
   ]
  },
  {
   "cell_type": "code",
   "metadata": {
    "colab": {
     "base_uri": "https://localhost:8080/"
    },
    "id": "r4f_R1N75yMa",
    "outputId": "e5b741a0-d241-485f-d27d-0e5174ddf5b4"
   },
   "source": [
    "print(f'Maximum value for the F1 Score (objectness): {max(f1_scores.values())} -> {max(f1_scores, key=lambda x: f1_scores[x])}')\n",
    "print(f'Maximum value for the F1 Score (global): {max(f1_classes.values())} -> {max(f1_classes, key=lambda x: f1_classes[x])}')"
   ],
   "execution_count": null,
   "outputs": [
    {
     "output_type": "stream",
     "name": "stdout",
     "text": [
      "Maximum value for the F1 Score (objectness): 0.706395609514871 -> obj=0.5 iou=0.3\n",
      "Maximum value for the F1 Score (global): 0.9310565495458539 -> obj=0.5 iou=0.7\n"
     ]
    }
   ]
  },
  {
   "cell_type": "code",
   "metadata": {
    "colab": {
     "base_uri": "https://localhost:8080/"
    },
    "id": "agSP5TwUALSN",
    "outputId": "be625901-3585-4b33-ef4c-aa11d733f653"
   },
   "source": [
    "max_thresh = get_max_thresh_for_f1_metrics(f1_scores, f1_classes)\n",
    "print(f'The threshold combination that maximizes both F1 Score for objectness and F1 Score for IoU is: {max_thresh}')\n",
    "print(f'Max. F1. (obj): {f1_scores[max_thresh]}  Max. F1 (iou): {f1_classes[max_thresh]}')"
   ],
   "execution_count": null,
   "outputs": [
    {
     "output_type": "stream",
     "name": "stdout",
     "text": [
      "The threshold combination that maximizes both F1 Score for objectness and F1 Score for IoU is: obj=0.5 iou=0.3\n",
      "Max. F1. (obj): 0.706395609514871  Max. F1 (iou): 0.8990263284446189\n"
     ]
    }
   ]
  },
  {
   "cell_type": "markdown",
   "metadata": {
    "id": "G7GeDeFlern7"
   },
   "source": [
    "Explain, in your on words, the effect that increasing the IoU threshold from a certain value to a higher one has in every subsequent stage of the  object detection and classification processes."
   ]
  },
  {
   "cell_type": "markdown",
   "metadata": {
    "id": "inma1xR8gVKh"
   },
   "source": [
    "> RPN proposes the prior boxes by sliding the\n",
    "window and setting the anchors of different sizes and proportions. If we use a static 0.5 IOU threshold, it may not be large enough for the training stage, and it could lead to detection of noise. On the other hand, if we vary this threshold arbitrarily and in a coarse way, the performance won't increase. However, we can obtain higher quality bounding boxes if this threshold increase is performed stage-by-stage, in a cascade way, where the input of the later stage depends on the output of the former. This way, the thresholds of the stages increase in turn."
   ]
  },
  {
   "cell_type": "markdown",
   "metadata": {
    "id": "6n8JhZ3xgaGO"
   },
   "source": [
    "Go back to the implementation part and analyze the code. Which were the values used for the objectness and IoU thresholds during training?"
   ]
  },
  {
   "cell_type": "markdown",
   "metadata": {
    "id": "xsh4ylvUg4kW"
   },
   "source": [
    "> During training, 0.5 has been used as objectness and IoU threshold value."
   ]
  },
  {
   "cell_type": "markdown",
   "metadata": {
    "id": "7DVnVHrymeYf"
   },
   "source": [
    "> In order to check all the possible hyperparameter configuartions for objectness and IoU thresholds, all the possible combinations for the thresholds have been checked:\n",
    "* **obj**=0.3, **iou**=0.3\n",
    "* **obj**=0.3, **iou**=0.5\n",
    "* **...**\n",
    "* **obj**=0.7, **iou**=0.7"
   ]
  },
  {
   "cell_type": "code",
   "metadata": {
    "colab": {
     "base_uri": "https://localhost:8080/"
    },
    "id": "ocQn9Fsn6qmt",
    "outputId": "d741b0b9-1adc-46d9-a364-37f057d641cd"
   },
   "source": [
    "f1_scores, f1_classes = test_thresholds(model_path,\n",
    "                                        obj_thresh=[0.3, 0.5, 0.7], iou_thresh=[0.3, 0.5, 0.7])"
   ],
   "execution_count": null,
   "outputs": [
    {
     "output_type": "stream",
     "name": "stdout",
     "text": [
      "\n",
      "Obj. threshold: 0.3  IoU threshold: 0.3\n",
      "\n",
      "Evaluating...\n",
      "Evaluation complete in 0m 36.170010566711426s\n",
      "Objectness-RPN. F1: 0.6040088226576797.     Precision: 0.46808510638297873. Recall: 0.8511751890182495\n",
      "Global classification: F1: 0.8618244016911027.     Precision: 0.8791329284750338. Recall: 0.8451842623354252\n",
      "\n",
      "Obj. threshold: 0.3  IoU threshold: 0.5\n",
      "\n",
      "Evaluating...\n",
      "Evaluation complete in 0m 36.43002152442932s\n",
      "Objectness-RPN. F1: 0.571963147699215.     Precision: 0.4425531914893617. Recall: 0.8083333373069763\n",
      "Global classification: F1: 0.8551235058273526.     Precision: 0.8709379984051038. Recall: 0.83987308987309\n",
      "\n",
      "Obj. threshold: 0.3  IoU threshold: 0.7\n",
      "\n",
      "Evaluating...\n",
      "Evaluation complete in 0m 35.739163875579834s\n",
      "Objectness-RPN. F1: 0.40929841276314083.     Precision: 0.3148936170212766. Recall: 0.5845441818237305\n",
      "Global classification: F1: 0.9043237234338206.     Precision: 0.9055555555555557. Recall: 0.9030952380952382\n",
      "\n",
      "Obj. threshold: 0.5  IoU threshold: 0.3\n",
      "\n",
      "Evaluating...\n",
      "Evaluation complete in 0m 34.50754737854004s\n",
      "Objectness-RPN. F1: 0.706395609514871.     Precision: 0.6358024691358025. Recall: 0.794622540473938\n",
      "Global classification: F1: 0.8990263284446189.     Precision: 0.9199468085106384. Recall: 0.8790361952861954\n",
      "\n",
      "Obj. threshold: 0.5  IoU threshold: 0.5\n",
      "\n",
      "Evaluating...\n",
      "Evaluation complete in 0m 38.43860054016113s\n",
      "Objectness-RPN. F1: 0.6551637511555771.     Precision: 0.5864197530864198. Recall: 0.7421652674674988\n",
      "Global classification: F1: 0.9082727026496932.     Precision: 0.91875. Recall: 0.8980316742081449\n",
      "\n",
      "Obj. threshold: 0.5  IoU threshold: 0.7\n",
      "\n",
      "Evaluating...\n",
      "Evaluation complete in 0m 37.43551993370056s\n",
      "Objectness-RPN. F1: 0.4864380170966181.     Precision: 0.43209876543209874. Recall: 0.5564102530479431\n",
      "Global classification: F1: 0.9310565495458539.     Precision: 0.9265972222222222. Recall: 0.9355590062111802\n",
      "\n",
      "Obj. threshold: 0.7  IoU threshold: 0.3\n",
      "\n",
      "Evaluating...\n",
      "Evaluation complete in 0m 37.69188618659973s\n",
      "Objectness-RPN. F1: 0.757776100001551.     Precision: 0.8411214953271028. Recall: 0.6894587278366089\n",
      "Global classification: F1: 0.9300373342767765.     Precision: 0.9493589743589743. Recall: 0.9114864864864866\n",
      "\n",
      "Obj. threshold: 0.7  IoU threshold: 0.5\n",
      "\n",
      "Evaluating...\n",
      "Evaluation complete in 0m 39.168997049331665s\n",
      "Objectness-RPN. F1: 0.6796236198224745.     Precision: 0.7476635514018691. Recall: 0.6229344606399536\n",
      "Global classification: F1: 0.9392560715787148.     Precision: 0.9494906621392191. Recall: 0.9292397660818713\n",
      "\n",
      "Obj. threshold: 0.7  IoU threshold: 0.7\n",
      "\n",
      "Evaluating...\n",
      "Evaluation complete in 0m 37.79216194152832s\n",
      "Objectness-RPN. F1: 0.5425173402093839.     Precision: 0.5887850467289719. Recall: 0.5029914379119873\n",
      "Global classification: F1: 0.9719696969696969.     Precision: 0.9719696969696969. Recall: 0.9719696969696969\n"
     ]
    }
   ]
  },
  {
   "cell_type": "markdown",
   "metadata": {
    "id": "eGcFzkAsnMTR"
   },
   "source": [
    "<b><h5 align=\"center\">F1 Score (objectness)</h1></b>\n",
    "\n",
    "| IoU / Obj | 0.3 | 0.5 | 0.7 |\n",
    "| ----- | ---- | --- | --- |\n",
    "|**0.3**| 0.604 | 0.706 | **0.757** |\n",
    "|**0.5**| 0.572 | 0.651 | 0.680 |\n",
    "|**0.7**| 0.410 | 0.486 | 0.542 |\n",
    "\n",
    "\n",
    "<b><h5 align=\"center\">F1 Score (global)</h1></b>\n",
    "\n",
    "| IoU / Obj | 0.3 | 0.5 | 0.7 |\n",
    "| ----- | ---- | --- | --- |\n",
    "|**0.3**| 0.861 | 0.899 | 0.930 |\n",
    "|**0.5**| 0.855 | 0.908 | 0.939 |\n",
    "|**0.7**| 0.904 | 0.931 | **0.971** |\n"
   ]
  },
  {
   "cell_type": "code",
   "metadata": {
    "id": "0ykVyWtRCDX0"
   },
   "source": [
    "# pprint(f1_scores)\n",
    "# pprint(f1_classes)"
   ],
   "execution_count": null,
   "outputs": []
  },
  {
   "cell_type": "code",
   "metadata": {
    "id": "L_9VpELoAaGL",
    "colab": {
     "base_uri": "https://localhost:8080/"
    },
    "outputId": "806b2ee4-6569-47cc-9535-634a9c09b2f3"
   },
   "source": [
    "print(f'Maximum value for the F1 Score (objectness): {max(f1_scores.values())} -> {max(f1_scores, key=lambda x: f1_scores[x])}')\n",
    "print(f'Maximum value for the F1 Score (global): {max(f1_classes.values())} -> {max(f1_classes, key=lambda x: f1_classes[x])}')"
   ],
   "execution_count": null,
   "outputs": [
    {
     "output_type": "stream",
     "name": "stdout",
     "text": [
      "Maximum value for the F1 Score (objectness): 0.757776100001551 -> obj=0.7 iou=0.3\n",
      "Maximum value for the F1 Score (global): 0.9719696969696969 -> obj=0.7 iou=0.7\n"
     ]
    }
   ]
  },
  {
   "cell_type": "code",
   "metadata": {
    "id": "FHZbpnMWAagQ",
    "colab": {
     "base_uri": "https://localhost:8080/"
    },
    "outputId": "eb7f4f31-5a1d-4c25-85ad-6cecab292a8e"
   },
   "source": [
    "max_thresh = get_max_thresh_for_f1_metrics(f1_scores, f1_classes)\n",
    "print(f'The threshold combination that maximizes both F1 Score for objectness and F1 Score for IoU is: {max_thresh}')\n",
    "print(f'Max. F1. (obj): {f1_scores[max_thresh]}  Max. F1 (iou): {f1_classes[max_thresh]}')"
   ],
   "execution_count": null,
   "outputs": [
    {
     "output_type": "stream",
     "name": "stdout",
     "text": [
      "The threshold combination that maximizes both F1 Score for objectness and F1 Score for IoU is: obj=0.7 iou=0.3\n",
      "Max. F1. (obj): 0.757776100001551  Max. F1 (iou): 0.9300373342767765\n"
     ]
    }
   ]
  },
  {
   "cell_type": "markdown",
   "metadata": {
    "id": "OmlWE9gBbWGY"
   },
   "source": [
    "### 3. Anchor size analysis.\n",
    "\n",
    "The images in the PASCAL VOC database have a maximum size of 500 pixels on their longest side and one smaller side of variable size, and therefore different aspect ratios. Note, however, that Pytorch scales images so that their minimum side measures 800 pixels or their maximum side 1333 (see the __resize__ function of __torchvision_05.models.detection.transform__). \n",
    "\n",
    "The following code (when uncommented) calculates the distribution of sizes and aspect ratios of objects in the train and test datasets."
   ]
  },
  {
   "cell_type": "code",
   "metadata": {
    "id": "VrcISn3xbWGZ"
   },
   "source": [
    "import matplotlib.pyplot as plt\n",
    "from external import get_gt_anchors\n",
    "# define training and test data loaders\n",
    "data_loader_0 = torch.utils.data.DataLoader(\n",
    "    dataset, batch_size=batch_size, shuffle=True, num_workers=0,\n",
    "    collate_fn=utils.collate_fn)\n",
    "\n",
    "data_loader_test_0 = torch.utils.data.DataLoader(\n",
    "    dataset_test, batch_size=batch_size, shuffle=False, num_workers=0,\n",
    "    collate_fn=utils.collate_fn)"
   ],
   "execution_count": null,
   "outputs": []
  },
  {
   "cell_type": "code",
   "metadata": {
    "colab": {
     "base_uri": "https://localhost:8080/",
     "height": 729
    },
    "id": "xE8fgsUqO-1Z",
    "outputId": "c5d4b531-a4f1-4ea4-a63f-494b1119969a"
   },
   "source": [
    "# TRAIN\n",
    "fig, axes = plt.subplots(nrows=2, ncols=2, figsize=(10, 10))\n",
    "\n",
    "ar, labels, size_anchors = get_gt_anchors(data_loader_0)\n",
    "\n",
    "ax0, ax1, ax2, ax3 = axes.flatten()\n",
    "\n",
    "ax0.set_title('Aspect ratio, train')\n",
    "ax1.set_title('Box size, train')\n",
    "\n",
    "ax0.hist(\n",
    "    [ar[np.where(labels==1)[0]],\n",
    "     ar[np.where(labels==2)[0]],\n",
    "     ar[np.where(labels==3)[0]],\n",
    "     ar[np.where(labels==4)[0]]],\n",
    "    color=['blue','orange','green','purple'],\n",
    "    label=class_names[1:]\n",
    ")\n",
    "ax1.hist(\n",
    "    [size_anchors[np.where(labels==1)[0]],\n",
    "     size_anchors[np.where(labels==2)[0]],\n",
    "     size_anchors[np.where(labels==3)[0]],\n",
    "     size_anchors[np.where(labels==4)[0]]],\n",
    "    color=['blue','orange','green','purple'],\n",
    "    label=class_names[1:]\n",
    ")\n",
    "ax0.legend(prop={'size': 10})\n",
    "ax1.legend(prop={'size': 10})\n",
    "\n",
    "# TEST\n",
    "ar, labels, size_anchors = get_gt_anchors(data_loader_test_0)\n",
    "\n",
    "ax2.set_title('Aspect ratio, test')\n",
    "ax3.set_title('Box size, test')\n",
    "\n",
    "ax2.hist(\n",
    "    [ar[np.where(labels==1)[0]],\n",
    "     ar[np.where(labels==2)[0]],\n",
    "     ar[np.where(labels==3)[0]],\n",
    "     ar[np.where(labels==4)[0]]],\n",
    "    color=['blue','orange','green','purple'],\n",
    "    label=class_names[1:]\n",
    ")\n",
    "ax3.hist(\n",
    "    [size_anchors[np.where(labels==1)[0]],\n",
    "     size_anchors[np.where(labels==2)[0]],\n",
    "     size_anchors[np.where(labels==3)[0]],\n",
    "     size_anchors[np.where(labels==4)[0]]],\n",
    "    color=['blue','orange','green','purple'],\n",
    "    label=class_names[1:]\n",
    ")\n",
    "ax2.legend(prop={'size': 10})\n",
    "ax3.legend(prop={'size': 10})\n",
    "\n",
    "fig.tight_layout()\n",
    "plt.show()"
   ],
   "execution_count": null,
   "outputs": [
    {
     "output_type": "display_data",
     "data": {
      "image/png": "[encoded data removed]",
      "text/plain": [
       "<Figure size 720x720 with 4 Axes>"
      ]
     },
     "metadata": {
      "needs_background": "light"
     }
    }
   ]
  },
  {
   "cell_type": "markdown",
   "metadata": {
    "id": "Ns4s3ld0bWGb"
   },
   "source": [
    "The following one, on the other hand, calculates (once uncommented) the dsitribution of the anchors provided by the net."
   ]
  },
  {
   "cell_type": "code",
   "metadata": {
    "id": "4e71ZhRmbWGc",
    "colab": {
     "base_uri": "https://localhost:8080/"
    },
    "outputId": "b7648365-0855-4065-b171-ba38e1ceae72"
   },
   "source": [
    "# Inference: extract the selected anchors\n",
    "model_name = 'f-rcnn_obj0-5_iou0-5_e24.pth'\n",
    "model_ft = load_model(f'{result_dir}/{model_name}')\n",
    "results = test_detection_model(model_ft, data_loader_test, class_names, 0.5, 0.5,\n",
    "                               result_dir, False, False, False)\n",
    "\n",
    "anchors, l_t = results['anchors'], results['l_t']"
   ],
   "execution_count": null,
   "outputs": [
    {
     "output_type": "stream",
     "name": "stdout",
     "text": [
      "\n",
      "Evaluating...\n",
      "Evaluation complete in 0m 40.14697265625s\n",
      "Objectness-RPN. F1: 0.6551637511555771.     Precision: 0.5864197530864198. Recall: 0.7421652674674988\n",
      "Global classification: F1: 0.9082727026496932.     Precision: 0.91875. Recall: 0.8980316742081449\n"
     ]
    }
   ]
  },
  {
   "cell_type": "code",
   "metadata": {
    "colab": {
     "base_uri": "https://localhost:8080/",
     "height": 369
    },
    "id": "BeUS1ZvFN5kV",
    "outputId": "5503f5be-cb86-4fe5-c49a-0b155304ce7f"
   },
   "source": [
    "# Anchor statistics\n",
    "ar = []\n",
    "labels = []\n",
    "size_anchors = []\n",
    "for i in range(anchors.shape[0]):\n",
    "    labels.append(l_t[i])\n",
    "    size_anchors.append(np.sqrt((anchors[i,2] - anchors[i,0]) * (anchors[i,3] - anchors[i,1])))\n",
    "    ar.append((anchors[i,2] - anchors[i,0]) / (anchors[i,3] - anchors[i,1]))\n",
    "\n",
    "ar = np.array(ar)\n",
    "labels = np.array(labels)\n",
    "size_anchors = np.array(size_anchors)\n",
    "\n",
    "fig, axes = plt.subplots(nrows=1, ncols=2, figsize=(10, 5))\n",
    "ax0, ax1 = axes.flatten()\n",
    "\n",
    "ax0.set_title('Aspect ratio, train')\n",
    "ax1.set_title('Anchor size, train')\n",
    "\n",
    "ax0.hist(\n",
    "    [ar[np.where(labels==1)[0]],\n",
    "     ar[np.where(labels==2)[0]],\n",
    "     ar[np.where(labels==3)[0]],\n",
    "     ar[np.where(labels==4)[0]]],\n",
    "     color=['blue', 'orange', 'green', 'purple'],\n",
    "    label=class_names[1:]\n",
    ")\n",
    "ax1.hist(\n",
    "    [size_anchors[np.where(labels==1)[0]],\n",
    "     size_anchors[np.where(labels==2)[0]],\n",
    "     size_anchors[np.where(labels==3)[0]],\n",
    "     size_anchors[np.where(labels==4)[0]]],\n",
    "    color=['blue', 'orange', 'green', 'purple'],\n",
    "    label=class_names[1:]\n",
    ")\n",
    "ax0.legend(prop={'size': 10})\n",
    "ax1.legend(prop={'size': 10})\n",
    "\n",
    "fig.tight_layout()\n",
    "plt.show()"
   ],
   "execution_count": null,
   "outputs": [
    {
     "output_type": "display_data",
     "data": {
      "image/png": "[encoded data removed]",
      "text/plain": [
       "<Figure size 720x360 with 2 Axes>"
      ]
     },
     "metadata": {
      "needs_background": "light"
     }
    }
   ]
  },
  {
   "cell_type": "markdown",
   "metadata": {
    "id": "MJFu89JhZ0UC"
   },
   "source": [
    ""
   ]
  },
  {
   "cell_type": "markdown",
   "metadata": {
    "id": "VaM15KPTjosV"
   },
   "source": [
    "Is the distribution of the anchors' sizes and shapes related to those of the bounding boxes provided in training and testing? Justify your answer."
   ]
  },
  {
   "cell_type": "markdown",
   "metadata": {
    "id": "coq_JDrJkKBG"
   },
   "source": [
    ">Observing the previous results, we think they are related. This makes sense, as the anchors sizes and shapes represent predefined landmarks for bounding boxes to pick and use offsets to give location for detected object. This leads to the final bounding boxes distribution being slighty different from the original one, being this difference dependent on the anchors distribution, thus related."
   ]
  },
  {
   "cell_type": "markdown",
   "metadata": {
    "id": "jULUd0lvkM70"
   },
   "source": [
    "After analyzing these results, why do you think the library changes the size of the images when these are fed to the network?"
   ]
  },
  {
   "cell_type": "markdown",
   "metadata": {
    "id": "4kDVHe4skdyY"
   },
   "source": [
    "> When fed to the network, our images will be stacked and transformed to a single tensor input with one extra dimension. This cannot be done between images of different shapes, because the network cannot know the \"alignment\" between them, so their size needs to be reshaped. \n",
    "\n",
    "> Moreover, kernels may have been trained to a specific set of aspect ratios and thus the anchors of the features they extract are usually of a certain size. This can be seen in the previous graphs, where both  aspect ratios and anchor sizes distribution are mainly selected in 3 groups. "
   ]
  },
  {
   "cell_type": "markdown",
   "metadata": {
    "id": "01GlZ4GCkgdO"
   },
   "source": [
    "Provide a brief analysis of the visual output of the net, the anchors and the bounding boxes obtained through regression for a given image (you can choose it randomly). Note that theses outputs should already be generated within the execution directory."
   ]
  },
  {
   "cell_type": "code",
   "metadata": {
    "colab": {
     "base_uri": "https://localhost:8080/"
    },
    "id": "Dkp7p590kAaI",
    "outputId": "40891302-1148-47bc-a6af-4a58fb88018d"
   },
   "source": [
    "results = test_detection_model(model_ft, data_loader_test, class_names,\n",
    "                               0.7, 0.3, result_dir, True, True, False)"
   ],
   "execution_count": null,
   "outputs": [
    {
     "output_type": "stream",
     "name": "stdout",
     "text": [
      "\n",
      "Evaluating...\n",
      "Evaluation complete in 0m 38.37067723274231s\n",
      "Objectness-RPN. F1: 0.757776100001551.     Precision: 0.8411214953271028. Recall: 0.6894587278366089\n",
      "Global classification: F1: 0.9300373342767765.     Precision: 0.9493589743589743. Recall: 0.9114864864864866\n"
     ]
    }
   ]
  },
  {
   "cell_type": "code",
   "metadata": {
    "colab": {
     "base_uri": "https://localhost:8080/",
     "height": 269
    },
    "id": "ad-EAgOutsOt",
    "outputId": "d6b03eed-3a7b-4a7c-a111-25b3b5c16fb1"
   },
   "source": [
    "from skimage import io\n",
    "\n",
    "image = io.imread(f'{result_dir}/instances_pred_full/2009_000201.jpg')\n",
    "\n",
    "plt.imshow(image)\n",
    "plt.show()"
   ],
   "execution_count": null,
   "outputs": [
    {
     "output_type": "display_data",
     "data": {
      "image/png": "[encoded data removed]",
      "text/plain": [
       "<Figure size 432x288 with 1 Axes>"
      ]
     },
     "metadata": {
      "needs_background": "light"
     }
    }
   ]
  },
  {
   "cell_type": "markdown",
   "metadata": {
    "id": "omH1PUQvp5X3"
   },
   "source": [
    "> Answer here"
   ]
  },
  {
   "cell_type": "markdown",
   "metadata": {
    "id": "dYO6wL43k9EW"
   },
   "source": [
    "Are the identified anchors satisfactory? Justify your answer.\n"
   ]
  },
  {
   "cell_type": "markdown",
   "metadata": {
    "id": "Y7y0kmYumSJu"
   },
   "source": [
    "Most of the anchors are generally satisfactory."
   ]
  },
  {
   "cell_type": "markdown",
   "metadata": {
    "id": "i9ydFnQJl7hM"
   },
   "source": [
    " How could we deal with an excessively low detection rate (unidentified objects in most of the images)?"
   ]
  },
  {
   "cell_type": "markdown",
   "metadata": {
    "id": "mXf7J1tjmQUc"
   },
   "source": [
    "> This excessively low detection rate would be defined by the global F1 score, which is obtained from the **precision and  recall metrics**. In order to determine the best approach, we think these two metrics should be analyzed separatedly for the **Region Proposal Network** and for the **final output** of the RCNN. \n",
    "\n",
    "> If the recall of the RPN was high and low for the RCNN output, probably we would need **more positive labels** for the network to learn. \n",
    "\n",
    "> If the other way around is the case, we might not have **enough amount of training data and less number of classes**. \n",
    "\n",
    "> When both are low, we would probably need to deal with some kind of image augmentation in order to enlarge our dataset. \n",
    "\n",
    "> Anyway, to fix this issue we could try testing the performance when modifying the **learning rate** or using multiple, different aspect ratios -similar to our original ones- so we could **get more labels** for training."
   ]
  },
  {
   "cell_type": "markdown",
   "metadata": {
    "id": "i3IoBv7cmVW5"
   },
   "source": [
    "Doess regression work well for all cases? Does it work better for larger or smaller objects? Why do you think that happens?"
   ]
  },
  {
   "cell_type": "markdown",
   "metadata": {
    "id": "x5u6bnCEmlal"
   },
   "source": [
    "> The 𝐿𝑟𝑒𝑔 loss function  considers the difference between the real bounding box and the anchors, thus minimizing the difference with ground truth regardless of the type of object. For calculating the targets for the regression, we use the foreground anchor and the closest ground truth object and calculate the correct Δ needed to transform the anchor into the object.\n",
    "\n",
    "> Therefore, we believe that it detects small objects better because their **bounding boxes are more unlikely to overlap each other**. On the other hand, the boxes of large objects tend to overlap more between them and some small ones within these large ones. Thus, for small objects predicting objectness should be way faster and easier than predicting the class."
   ]
  },
  {
   "cell_type": "markdown",
   "metadata": {
    "id": "P51uzshNbWGg"
   },
   "source": [
    "### 4. _RoI pooling_ and classification.\n",
    "\n",
    "In this section, a visual representation of the *RoI pooling* outputs for the different classes will be obtained using the external function `visualize_roipooling`. Furthermore, the classification results will be analyzed. Uncomment the next cell to perform the analysis.\n",
    "\n",
    "In the following code cell, visual representations of the *RoI pooling* are extracted for each object detected in the `roipool` folder, inside the results folder. The *RoI pooling* outputs a feature map $F_r$ of size $HxWxC = 7x7x2048$. Each representation, in turn, corresponds to a 7x7 cell in which the maximum value of this map $F_r$ is represented over all channels (that is, each element contains the maximum value of all channels for each cell). In this way, the spatial distribution of the activations in the *RoI pooling* can be inferred. Run the following cell and analyze the output representations.\n",
    "\n",
    "__IMPORTANT__: the mean is not used to extract the representations since in convolutional networks most of the values ​​of the channels in a certain position are usually very low, and this makes the mean values ​​are very similar."
   ]
  },
  {
   "cell_type": "code",
   "metadata": {
    "id": "A9ivq3FfbWGi",
    "colab": {
     "base_uri": "https://localhost:8080/"
    },
    "outputId": "db945a9e-ed3e-4d44-804d-3deaf67fa40a"
   },
   "source": [
    "from sklearn.metrics import ConfusionMatrixDisplay\n",
    "from external import visualize_roipooling\n",
    "\n",
    "result_dir = 'baseline_results'\n",
    "model_ft = load_model(f'{result_dir}/f-rcnn_obj0-5_iou0-5_e24.pth')\n",
    "\n",
    "# For the roi-pooling experiment, analyze the top bounding-boxes (th_score > 0.7)\n",
    "# and only those with th_iou > 0.7 with the ground-truth\n",
    "visualize_roipooling(model_ft, data_loader_test, device, class_names, 0.7, 0.7, result_dir, True)\n",
    "\n",
    "# For the confusion matrix, experiment with the standard thresholds\n",
    "results = test_detection_model(model_ft, data_loader_test, class_names, 0.5, 0.5, result_dir, False, False, True)"
   ],
   "execution_count": null,
   "outputs": [
    {
     "output_type": "stream",
     "name": "stdout",
     "text": [
      "Evaluating...\n",
      "\n",
      "Evaluating...\n",
      "Evaluation complete in 0m 37.98782134056091s\n",
      "Objectness-RPN. F1: 0.6551637511555771.     Precision: 0.5864197530864198. Recall: 0.7421652674674988\n",
      "Class: bottle. Recall: 26/36\n",
      "Class: chair. Recall: 34/52\n",
      "Class: dining_table. Recall: 10/15\n",
      "Class: sofa. Recall: 25/27\n",
      "\n",
      "Global classification: F1: 0.9082727026496932.     Precision: 0.91875. Recall: 0.8980316742081449\n",
      "Class: bottle F1: 0.9803921568627451.     Precision: 1.0. Recall: 0.9615384615384616\n",
      "Class: chair F1: 0.8918918918918919.     Precision: 0.825. Recall: 0.9705882352941176\n",
      "Class: dining_table F1: 0.9.     Precision: 0.9. Recall: 0.9\n",
      "Class: sofa F1: 0.8444444444444444.     Precision: 0.95. Recall: 0.76\n"
     ]
    }
   ]
  },
  {
   "cell_type": "code",
   "metadata": {
    "colab": {
     "base_uri": "https://localhost:8080/",
     "height": 297
    },
    "id": "6p2vNoP0d6Cf",
    "outputId": "903ccf2c-4731-4f66-fcb1-aa534f2a241f"
   },
   "source": [
    "dconf = ConfusionMatrixDisplay(results['cm'], display_labels=class_names[1:])\n",
    "dconf.plot()"
   ],
   "execution_count": null,
   "outputs": [
    {
     "output_type": "execute_result",
     "data": {
      "text/plain": [
       "<sklearn.metrics._plot.confusion_matrix.ConfusionMatrixDisplay at 0x7f6f85d8d990>"
      ]
     },
     "metadata": {},
     "execution_count": 33
    },
    {
     "output_type": "display_data",
     "data": {
      "image/png": "[encoded data removed]",
      "text/plain": [
       "<Figure size 432x288 with 2 Axes>"
      ]
     },
     "metadata": {
      "needs_background": "light"
     }
    }
   ]
  },
  {
   "cell_type": "markdown",
   "metadata": {
    "id": "OkDgstUErV30"
   },
   "source": [
    "Visualize the outputs provided by `visualize_roipooling` and focus on the objects that appear completely in the images. Can the class of the object be inferred from the spatial distribution of the RoI pooling regardless of its scale? Justify your answer."
   ]
  },
  {
   "cell_type": "markdown",
   "metadata": {
    "id": "Uk3oSn1Brsfc"
   },
   "source": [
    "> To perform this analysis, we will rely on a **visual approach**. We have decided to interpret the shape and distribution of pixels in the pools as measures to determine possible spatial correlations.\n",
    "\n",
    "> The most obvious are the Roi pooling whose shape is elongated, tall and of very small width: in practically all the examples studied, these pools correspond to **bottles**.\n",
    "\n",
    "> We found some discrepancy between those representing **sofas** and **tables**. The ratio between their height and width, in both, is usually a little less than 1. However, we believe that those that are larger and wider tend to be tables, while when they have a medium width and height they appear to be sofas.\n",
    "\n",
    "> The pattern relating **chair** objects and their roi pools has been more difficult to identify. We have concluded that they tend to be pools higher than wider but defitenely shorter than bottles."
   ]
  },
  {
   "cell_type": "markdown",
   "metadata": {
    "id": "AUN-wSUBruI9"
   },
   "source": [
    "Analyze the confusion matrix. Which classes are easier to confuse? Why do you think this happens?"
   ]
  },
  {
   "cell_type": "markdown",
   "metadata": {
    "id": "yUdBo5xDr6yI"
   },
   "source": [
    "> Checking the confusion matrix, it is obvious that the classes that are easier to confuse are **sofa** and **chair**. This makes sense, from a perceptual perspective, as these are objects that share very similar features. \n",
    "\n",
    "> In addition, they are the two classes with the greatest similarity between their RoI Pooling pixel average shapes, which could be causing the model to misidentify their labels. "
   ]
  }
 ]
}